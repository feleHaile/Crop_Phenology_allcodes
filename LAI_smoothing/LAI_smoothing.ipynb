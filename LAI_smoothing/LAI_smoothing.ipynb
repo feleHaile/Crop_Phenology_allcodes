{
 "cells": [
  {
   "cell_type": "code",
   "execution_count": 339,
   "metadata": {
    "collapsed": true
   },
   "outputs": [],
   "source": [
    "import pandas as pd\n",
    "import numpy as np\n",
    "import rasterio\n",
    "import time\n",
    "import random"
   ]
  },
  {
   "cell_type": "code",
   "execution_count": 360,
   "metadata": {},
   "outputs": [],
   "source": [
    "import os\n",
    "import pdb\n",
    "\n",
    "import numpy as np\n",
    "import pandas as pd\n",
    "from scipy.optimize import leastsq\n",
    "\n",
    "\n",
    "def model_fourier(params, agdd, n_harm):\n",
    "    \"\"\"\n",
    "    Fourier model\n",
    "    :param params:\n",
    "    :param agdd:\n",
    "    :param n_harm:\n",
    "    :return:\n",
    "    \"\"\"\n",
    "    integration_time = len(agdd)\n",
    "    t = np.arange(1, integration_time + 1)\n",
    "    result = t*.0 + params[0]\n",
    "    w = 1\n",
    "\n",
    "    for i in range(1, n_harm * 4, 4):\n",
    "        result = result + params[i] * np.cos(2.0 * np.pi * w * t / integration_time + params[i+1]) \\\n",
    "                 + params[i+2]*np.sin(2.0 * np.pi * w * t / integration_time + params[i+3])\n",
    "        w += 1\n",
    "\n",
    "    return result\n",
    "\n",
    "\n",
    "def mismatch_function(params, func_phenology, ndvi, agdd):\n",
    "    \"\"\"\n",
    "    The NDVI/Phenology model mismatch function\n",
    "    :param params:\n",
    "    :param func_phenology:\n",
    "    :param ndvi:\n",
    "    :param agdd:\n",
    "    :param years:\n",
    "    :return:\n",
    "    \"\"\"\n",
    "    # output stores the predictions\n",
    "    output = []\n",
    "\n",
    "    oot = ndvi - func_phenology(params, agdd, n_harm=8)\n",
    "\n",
    "    [output.append(x) for x in oot]\n",
    "\n",
    "    return np.array(output).squeeze()\n",
    "\n",
    "\n",
    "def do_fourier(ndvi, gdd, n_harm=8, init_params=None):\n",
    "    \"\"\"\n",
    "    :param ndvi:\n",
    "    :param gdd:\n",
    "    :param n_harm:\n",
    "    :param init_params:\n",
    "    :return:\n",
    "    \"\"\"\n",
    "    n_params = 1 + n_harm * 4\n",
    "\n",
    "    if init_params is None:\n",
    "        init_params = [.25, ] * n_params\n",
    "        (xsol, mesg) = leastsq(mismatch_function, init_params, args=(model_fourier, ndvi, gdd), maxfev=1000000)\n",
    "        model_fitted = model_fourier(xsol, gdd, n_harm)\n",
    "\n",
    "    return model_fitted\n",
    "\n",
    "\n",
    "def get_PTD(df,gl,gu,sl,su):\n",
    "    \"\"\"\n",
    "    Get phenological transition dates (greenup, senescence)\n",
    "    :param df:\n",
    "    :return:\n",
    "    \"\"\"\n",
    "    # Input dataframe has an index comprised of day of year and remaining columns signify NDVI\n",
    "    # Linearly interpolate dataframe columns to fill in missing values\n",
    "    print(df['LAI_2015_corn'].tolist())\n",
    "    df = df.apply(pd.Series.interpolate)\n",
    "    print(df['LAI_2015_corn'].tolist())\n",
    "    first_index=df['LAI_2015_corn'].first_valid_index()\n",
    "    print(first_index)\n",
    "    if(first_index>14):\n",
    "        print(\"error preventing\")\n",
    "        #df.ix[14:first_index,'LAI_2015_corn']=200\n",
    "        df=df.ix[14:,]\n",
    "        print(len(df.index))\n",
    "    else:\n",
    "        df=df.ix[first_index:,]\n",
    "        print(len(df.index))\n",
    "    \n",
    "    # Now compute mean of all columns and get the smoothened NDVI\n",
    "    arr_smooth = do_fourier(df.mean(axis=1), [8.0] * len(df))\n",
    "    print(arr_smooth)\n",
    "    if(first_index>14):\n",
    "        plt.plot(list(range(14-1+len(arr_smooth))),np.append([np.NaN]*(14-1),arr_smooth))\n",
    "    else:\n",
    "        plt.plot(list(range(first_index-1+len(arr_smooth))),np.append([np.NaN]*(first_index-1),arr_smooth))\n",
    "    plt.xlabel(\"DOY\")\n",
    "    plt.ylabel(\"LAI\")\n",
    "    plt.title(\"LAI smoothened time series plot\")\n",
    "    plt.show()\n",
    "    \n",
    "    if(first_index>14):\n",
    "        return np.append([0]*(14-1),arr_smooth)\n",
    "    else:\n",
    "        return np.append([0]*(first_index-1),arr_smooth)"
   ]
  },
  {
   "cell_type": "code",
   "execution_count": 341,
   "metadata": {
    "collapsed": true
   },
   "outputs": [],
   "source": [
    "df_insert = pd.DataFrame({'LAI_2015_corn': [np.NaN]*7,\n",
    "                    'LAI_2015_soy': [np.NaN]*7})\n",
    "def dataframe_extraction(r1,r2,row,col):\n",
    "    \"\"\"This function returns a pandas dataframe that holds the NDVI values for 1-365 doys of 2015 and 2016 years.\n",
    "    inputs: r1, r2: the NDVI Rasterstacks for 2015 and 2016 years. Each raster has 365 layers one corresponding to a doy of that year.\n",
    "            row, col: the row and column of the raster pixel we would like to get the dataframe for \"\"\"\n",
    "    id=np.array(range(1,1+r1.shape[0]))\n",
    "    data_frame = (pd.DataFrame({'LAI_2015_corn':r1[0:r1.shape[0]+1:1,row,col],\n",
    "                          'LAI_2015_soy':r2[0:r1.shape[0]+1:1,row,col]},index=id))\n",
    "    return data_frame\n",
    "    df=pd.DataFrame()\n",
    "    for i in range(len(data_frame)):\n",
    "        df=pd.concat([df,data_frame.iloc[[i]],df_insert])\n",
    "    df.index=range(1,369)\n",
    "    return df[:365]"
   ]
  },
  {
   "cell_type": "code",
   "execution_count": 342,
   "metadata": {},
   "outputs": [],
   "source": [
    "from multiprocessing import Pool\n",
    "import matplotlib.pyplot as plt\n",
    "%matplotlib inline\n",
    "def initialize_rasters(path1,path2):\n",
    "    raster1=rasterio.open(path1)\n",
    "    tot_cols=raster1.width\n",
    "    tot_rows=raster1.height\n",
    "    a=raster1.read()\n",
    "    print(\"Tot rows: \",tot_rows,\" Tot cols: \",tot_cols)\n",
    "    raster2=rasterio.open(path2)\n",
    "    b=raster2.read()\n",
    "    return (a,b,tot_rows,tot_cols)\n",
    "def ritvik_fn(df,gl,gu,sl,su):\n",
    "    #return (random.randint(1,50),random.randint(120,365))\n",
    "    return get_PTD(df,gl,gu,sl,su)\n",
    "\n",
    "def myfunction(index,rasters):\n",
    "    a=rasters[0]\n",
    "    b=rasters[1]\n",
    "    tot_cols=a.shape[2]\n",
    "    tot_rows=a.shape[1]\n",
    "    #print(\"Tot rows: \",tot_rows,\" Tot cols: \",tot_cols)\n",
    "    row=int(index/tot_cols)\n",
    "    col=index-(tot_cols*row)\n",
    "    #print(\"row: \",row,\" col: \",col)\n",
    "    df=dataframe_extraction(a,b,row,col)\n",
    "    #df.loc[57]['NDVI_2015']=None\n",
    "    df[df<=200]=None\n",
    "    \n",
    "    lai_2015_corn=df['LAI_2015_corn'].tolist()\n",
    "    clean=[x for i,x in enumerate(lai_2015_corn) if str(x) != 'nan']\n",
    "    dicti={x:i for i,x in enumerate(lai_2015_corn) if str(x) != 'nan'}\n",
    "    clean = [max(0, min(x, 10000)) for x in clean]\n",
    "    \n",
    "    if (len(clean)>0):\n",
    "        maxi=int(max(clean))\n",
    "        print(clean)\n",
    "        plt.plot([dicti[x] for x in clean],clean)\n",
    "        #plt.plot(list(range(len(clean))),clean)\n",
    "        plt.xlabel(\"DOY\")\n",
    "        plt.ylabel(\"LAI_2015_corn\")\n",
    "        plt.title(\"LAI time series plot\")\n",
    "        plt.show()\n",
    "        #print(df.loc[50:80]['NDVI_2015'])\n",
    "        ##return ritvik_fn(pd.Series.to_frame(df['NDVI_2015']))\n",
    "        return ritvik_fn(pd.Series.to_frame(df.loc[0:365]['LAI_2015_corn']),10,60,135,196)\n",
    "    else:\n",
    "        return [0]*46"
   ]
  },
  {
   "cell_type": "code",
   "execution_count": 343,
   "metadata": {},
   "outputs": [
    {
     "name": "stdout",
     "output_type": "stream",
     "text": [
      "Tot rows:  757  Tot cols:  1521\n"
     ]
    }
   ],
   "source": [
    "src=rasterio.open('LAI_2015_corn_NA.tif')\n",
    "a,b,tot_rows,tot_cols=initialize_rasters('LAI_2015_corn.tif','LAI_2015_soy.tif')\n",
    "y=[(a,b)]*tot_rows*tot_cols\n",
    "ind=range(tot_rows*tot_cols)\n",
    "l=list()\n",
    "l=list(list(zip(ind,y))[:])\n",
    "lai_new=np.zeros_like(a)"
   ]
  },
  {
   "cell_type": "code",
   "execution_count": 361,
   "metadata": {
    "scrolled": false
   },
   "outputs": [
    {
     "name": "stdout",
     "output_type": "stream",
     "text": [
      "[291.0, 1312.0, 2322.0, 3243.0, 5046.0, 3783.0, 2386.0, 3668.0, 2911.0, 2261.0, 1862.0, 1270.0, 1558.0, 449.0, 239.0, 215.0, 330.0]\n"
     ]
    },
    {
     "data": {
      "image/png": "[encoded data removed]",
      "text/plain": [
       "<matplotlib.figure.Figure at 0x2900cedf128>"
      ]
     },
     "metadata": {},
     "output_type": "display_data"
    },
    {
     "name": "stdout",
     "output_type": "stream",
     "text": [
      "[nan, nan, nan, nan, nan, nan, nan, nan, nan, nan, nan, nan, nan, nan, nan, nan, nan, nan, nan, 291.0, nan, 1312.0, 2322.0, 3243.0, 5046.0, 3783.0, 2386.0, 3668.0, 2911.0, 2261.0, 1862.0, 1270.0, 1558.0, 449.0, nan, 239.0, 215.0, 330.0, nan, nan, nan, nan, nan, nan, nan, nan]\n",
      "[nan, nan, nan, nan, nan, nan, nan, nan, nan, nan, nan, nan, nan, nan, nan, nan, nan, nan, nan, 291.0, 801.5, 1312.0, 2322.0, 3243.0, 5046.0, 3783.0, 2386.0, 3668.0, 2911.0, 2261.0, 1862.0, 1270.0, 1558.0, 449.0, 344.0, 239.0, 215.0, 330.0, 330.0, 330.0, 330.0, 330.0, 330.0, 330.0, 330.0, 330.0]\n",
      "20\n",
      "error preventing\n",
      "33\n"
     ]
    },
    {
     "name": "stderr",
     "output_type": "stream",
     "text": [
      "C:\\Users\\koutilya\\AppData\\Local\\Continuum\\Anaconda3\\envs\\CCMS\\lib\\site-packages\\ipykernel_launcher.py:83: DeprecationWarning: \n",
      ".ix is deprecated. Please use\n",
      ".loc for label based indexing or\n",
      ".iloc for positional indexing\n",
      "\n",
      "See the documentation here:\n",
      "http://pandas.pydata.org/pandas-docs/stable/indexing.html#deprecate_ix\n"
     ]
    },
    {
     "ename": "KeyboardInterrupt",
     "evalue": "",
     "output_type": "error",
     "traceback": [
      "\u001b[1;31m---------------------------------------------------------------------------\u001b[0m",
      "\u001b[1;31mKeyboardInterrupt\u001b[0m                         Traceback (most recent call last)",
      "\u001b[1;32m<ipython-input-361-25978096163c>\u001b[0m in \u001b[0;36m<module>\u001b[1;34m()\u001b[0m\n\u001b[0;32m      1\u001b[0m \u001b[1;31m#191150,561100\u001b[0m\u001b[1;33m\u001b[0m\u001b[1;33m\u001b[0m\u001b[0m\n\u001b[1;32m----> 2\u001b[1;33m \u001b[0mtest\u001b[0m\u001b[1;33m=\u001b[0m\u001b[0mmyfunction\u001b[0m\u001b[1;33m(\u001b[0m\u001b[1;36m989152\u001b[0m\u001b[1;33m,\u001b[0m\u001b[1;33m(\u001b[0m\u001b[0ma\u001b[0m\u001b[1;33m,\u001b[0m\u001b[0mb\u001b[0m\u001b[1;33m)\u001b[0m\u001b[1;33m)\u001b[0m\u001b[1;33m\u001b[0m\u001b[0m\n\u001b[0m",
      "\u001b[1;32m<ipython-input-342-a1a08cc75990>\u001b[0m in \u001b[0;36mmyfunction\u001b[1;34m(index, rasters)\u001b[0m\n\u001b[0;32m     44\u001b[0m         \u001b[1;31m#print(df.loc[50:80]['NDVI_2015'])\u001b[0m\u001b[1;33m\u001b[0m\u001b[1;33m\u001b[0m\u001b[0m\n\u001b[0;32m     45\u001b[0m         \u001b[1;31m##return ritvik_fn(pd.Series.to_frame(df['NDVI_2015']))\u001b[0m\u001b[1;33m\u001b[0m\u001b[1;33m\u001b[0m\u001b[0m\n\u001b[1;32m---> 46\u001b[1;33m         \u001b[1;32mreturn\u001b[0m \u001b[0mritvik_fn\u001b[0m\u001b[1;33m(\u001b[0m\u001b[0mpd\u001b[0m\u001b[1;33m.\u001b[0m\u001b[0mSeries\u001b[0m\u001b[1;33m.\u001b[0m\u001b[0mto_frame\u001b[0m\u001b[1;33m(\u001b[0m\u001b[0mdf\u001b[0m\u001b[1;33m.\u001b[0m\u001b[0mloc\u001b[0m\u001b[1;33m[\u001b[0m\u001b[1;36m0\u001b[0m\u001b[1;33m:\u001b[0m\u001b[1;36m365\u001b[0m\u001b[1;33m]\u001b[0m\u001b[1;33m[\u001b[0m\u001b[1;34m'LAI_2015_corn'\u001b[0m\u001b[1;33m]\u001b[0m\u001b[1;33m)\u001b[0m\u001b[1;33m,\u001b[0m\u001b[1;36m10\u001b[0m\u001b[1;33m,\u001b[0m\u001b[1;36m60\u001b[0m\u001b[1;33m,\u001b[0m\u001b[1;36m135\u001b[0m\u001b[1;33m,\u001b[0m\u001b[1;36m196\u001b[0m\u001b[1;33m)\u001b[0m\u001b[1;33m\u001b[0m\u001b[0m\n\u001b[0m\u001b[0;32m     47\u001b[0m     \u001b[1;32melse\u001b[0m\u001b[1;33m:\u001b[0m\u001b[1;33m\u001b[0m\u001b[0m\n\u001b[0;32m     48\u001b[0m         \u001b[1;32mreturn\u001b[0m \u001b[1;33m[\u001b[0m\u001b[1;36m0\u001b[0m\u001b[1;33m]\u001b[0m\u001b[1;33m*\u001b[0m\u001b[1;36m46\u001b[0m\u001b[1;33m\u001b[0m\u001b[0m\n",
      "\u001b[1;32m<ipython-input-342-a1a08cc75990>\u001b[0m in \u001b[0;36mritvik_fn\u001b[1;34m(df, gl, gu, sl, su)\u001b[0m\n\u001b[0;32m     13\u001b[0m \u001b[1;32mdef\u001b[0m \u001b[0mritvik_fn\u001b[0m\u001b[1;33m(\u001b[0m\u001b[0mdf\u001b[0m\u001b[1;33m,\u001b[0m\u001b[0mgl\u001b[0m\u001b[1;33m,\u001b[0m\u001b[0mgu\u001b[0m\u001b[1;33m,\u001b[0m\u001b[0msl\u001b[0m\u001b[1;33m,\u001b[0m\u001b[0msu\u001b[0m\u001b[1;33m)\u001b[0m\u001b[1;33m:\u001b[0m\u001b[1;33m\u001b[0m\u001b[0m\n\u001b[0;32m     14\u001b[0m     \u001b[1;31m#return (random.randint(1,50),random.randint(120,365))\u001b[0m\u001b[1;33m\u001b[0m\u001b[1;33m\u001b[0m\u001b[0m\n\u001b[1;32m---> 15\u001b[1;33m     \u001b[1;32mreturn\u001b[0m \u001b[0mget_PTD\u001b[0m\u001b[1;33m(\u001b[0m\u001b[0mdf\u001b[0m\u001b[1;33m,\u001b[0m\u001b[0mgl\u001b[0m\u001b[1;33m,\u001b[0m\u001b[0mgu\u001b[0m\u001b[1;33m,\u001b[0m\u001b[0msl\u001b[0m\u001b[1;33m,\u001b[0m\u001b[0msu\u001b[0m\u001b[1;33m)\u001b[0m\u001b[1;33m\u001b[0m\u001b[0m\n\u001b[0m\u001b[0;32m     16\u001b[0m \u001b[1;33m\u001b[0m\u001b[0m\n\u001b[0;32m     17\u001b[0m \u001b[1;32mdef\u001b[0m \u001b[0mmyfunction\u001b[0m\u001b[1;33m(\u001b[0m\u001b[0mindex\u001b[0m\u001b[1;33m,\u001b[0m\u001b[0mrasters\u001b[0m\u001b[1;33m)\u001b[0m\u001b[1;33m:\u001b[0m\u001b[1;33m\u001b[0m\u001b[0m\n",
      "\u001b[1;32m<ipython-input-360-fa38b953499a>\u001b[0m in \u001b[0;36mget_PTD\u001b[1;34m(df, gl, gu, sl, su)\u001b[0m\n\u001b[0;32m     88\u001b[0m \u001b[1;33m\u001b[0m\u001b[0m\n\u001b[0;32m     89\u001b[0m     \u001b[1;31m# Now compute mean of all columns and get the smoothened NDVI\u001b[0m\u001b[1;33m\u001b[0m\u001b[1;33m\u001b[0m\u001b[0m\n\u001b[1;32m---> 90\u001b[1;33m     \u001b[0marr_smooth\u001b[0m \u001b[1;33m=\u001b[0m \u001b[0mdo_fourier\u001b[0m\u001b[1;33m(\u001b[0m\u001b[0mdf\u001b[0m\u001b[1;33m.\u001b[0m\u001b[0mmean\u001b[0m\u001b[1;33m(\u001b[0m\u001b[0maxis\u001b[0m\u001b[1;33m=\u001b[0m\u001b[1;36m1\u001b[0m\u001b[1;33m)\u001b[0m\u001b[1;33m,\u001b[0m \u001b[1;33m[\u001b[0m\u001b[1;36m8.0\u001b[0m\u001b[1;33m]\u001b[0m \u001b[1;33m*\u001b[0m \u001b[0mlen\u001b[0m\u001b[1;33m(\u001b[0m\u001b[0mdf\u001b[0m\u001b[1;33m)\u001b[0m\u001b[1;33m)\u001b[0m\u001b[1;33m\u001b[0m\u001b[0m\n\u001b[0m\u001b[0;32m     91\u001b[0m     \u001b[0mprint\u001b[0m\u001b[1;33m(\u001b[0m\u001b[0marr_smooth\u001b[0m\u001b[1;33m)\u001b[0m\u001b[1;33m\u001b[0m\u001b[0m\n\u001b[0;32m     92\u001b[0m     \u001b[1;32mif\u001b[0m\u001b[1;33m(\u001b[0m\u001b[0mfirst_index\u001b[0m\u001b[1;33m>\u001b[0m\u001b[1;36m14\u001b[0m\u001b[1;33m)\u001b[0m\u001b[1;33m:\u001b[0m\u001b[1;33m\u001b[0m\u001b[0m\n",
      "\u001b[1;32m<ipython-input-360-fa38b953499a>\u001b[0m in \u001b[0;36mdo_fourier\u001b[1;34m(ndvi, gdd, n_harm, init_params)\u001b[0m\n\u001b[0;32m     59\u001b[0m     \u001b[1;32mif\u001b[0m \u001b[0minit_params\u001b[0m \u001b[1;32mis\u001b[0m \u001b[1;32mNone\u001b[0m\u001b[1;33m:\u001b[0m\u001b[1;33m\u001b[0m\u001b[0m\n\u001b[0;32m     60\u001b[0m         \u001b[0minit_params\u001b[0m \u001b[1;33m=\u001b[0m \u001b[1;33m[\u001b[0m\u001b[1;36m.25\u001b[0m\u001b[1;33m,\u001b[0m \u001b[1;33m]\u001b[0m \u001b[1;33m*\u001b[0m \u001b[0mn_params\u001b[0m\u001b[1;33m\u001b[0m\u001b[0m\n\u001b[1;32m---> 61\u001b[1;33m         \u001b[1;33m(\u001b[0m\u001b[0mxsol\u001b[0m\u001b[1;33m,\u001b[0m \u001b[0mmesg\u001b[0m\u001b[1;33m)\u001b[0m \u001b[1;33m=\u001b[0m \u001b[0mleastsq\u001b[0m\u001b[1;33m(\u001b[0m\u001b[0mmismatch_function\u001b[0m\u001b[1;33m,\u001b[0m \u001b[0minit_params\u001b[0m\u001b[1;33m,\u001b[0m \u001b[0margs\u001b[0m\u001b[1;33m=\u001b[0m\u001b[1;33m(\u001b[0m\u001b[0mmodel_fourier\u001b[0m\u001b[1;33m,\u001b[0m \u001b[0mndvi\u001b[0m\u001b[1;33m,\u001b[0m \u001b[0mgdd\u001b[0m\u001b[1;33m)\u001b[0m\u001b[1;33m,\u001b[0m \u001b[0mmaxfev\u001b[0m\u001b[1;33m=\u001b[0m\u001b[1;36m1000000\u001b[0m\u001b[1;33m)\u001b[0m\u001b[1;33m\u001b[0m\u001b[0m\n\u001b[0m\u001b[0;32m     62\u001b[0m         \u001b[0mmodel_fitted\u001b[0m \u001b[1;33m=\u001b[0m \u001b[0mmodel_fourier\u001b[0m\u001b[1;33m(\u001b[0m\u001b[0mxsol\u001b[0m\u001b[1;33m,\u001b[0m \u001b[0mgdd\u001b[0m\u001b[1;33m,\u001b[0m \u001b[0mn_harm\u001b[0m\u001b[1;33m)\u001b[0m\u001b[1;33m\u001b[0m\u001b[0m\n\u001b[0;32m     63\u001b[0m \u001b[1;33m\u001b[0m\u001b[0m\n",
      "\u001b[1;32m~\\AppData\\Local\\Continuum\\Anaconda3\\envs\\CCMS\\lib\\site-packages\\scipy\\optimize\\minpack.py\u001b[0m in \u001b[0;36mleastsq\u001b[1;34m(func, x0, args, Dfun, full_output, col_deriv, ftol, xtol, gtol, maxfev, epsfcn, factor, diag)\u001b[0m\n\u001b[0;32m    385\u001b[0m             \u001b[0mmaxfev\u001b[0m \u001b[1;33m=\u001b[0m \u001b[1;36m200\u001b[0m\u001b[1;33m*\u001b[0m\u001b[1;33m(\u001b[0m\u001b[0mn\u001b[0m \u001b[1;33m+\u001b[0m \u001b[1;36m1\u001b[0m\u001b[1;33m)\u001b[0m\u001b[1;33m\u001b[0m\u001b[0m\n\u001b[0;32m    386\u001b[0m         retval = _minpack._lmdif(func, x0, args, full_output, ftol, xtol,\n\u001b[1;32m--> 387\u001b[1;33m                                  gtol, maxfev, epsfcn, factor, diag)\n\u001b[0m\u001b[0;32m    388\u001b[0m     \u001b[1;32melse\u001b[0m\u001b[1;33m:\u001b[0m\u001b[1;33m\u001b[0m\u001b[0m\n\u001b[0;32m    389\u001b[0m         \u001b[1;32mif\u001b[0m \u001b[0mcol_deriv\u001b[0m\u001b[1;33m:\u001b[0m\u001b[1;33m\u001b[0m\u001b[0m\n",
      "\u001b[1;32m<ipython-input-360-fa38b953499a>\u001b[0m in \u001b[0;36mmismatch_function\u001b[1;34m(params, func_phenology, ndvi, agdd)\u001b[0m\n\u001b[0;32m     40\u001b[0m     \u001b[0moutput\u001b[0m \u001b[1;33m=\u001b[0m \u001b[1;33m[\u001b[0m\u001b[1;33m]\u001b[0m\u001b[1;33m\u001b[0m\u001b[0m\n\u001b[0;32m     41\u001b[0m \u001b[1;33m\u001b[0m\u001b[0m\n\u001b[1;32m---> 42\u001b[1;33m     \u001b[0moot\u001b[0m \u001b[1;33m=\u001b[0m \u001b[0mndvi\u001b[0m \u001b[1;33m-\u001b[0m \u001b[0mfunc_phenology\u001b[0m\u001b[1;33m(\u001b[0m\u001b[0mparams\u001b[0m\u001b[1;33m,\u001b[0m \u001b[0magdd\u001b[0m\u001b[1;33m,\u001b[0m \u001b[0mn_harm\u001b[0m\u001b[1;33m=\u001b[0m\u001b[1;36m8\u001b[0m\u001b[1;33m)\u001b[0m\u001b[1;33m\u001b[0m\u001b[0m\n\u001b[0m\u001b[0;32m     43\u001b[0m \u001b[1;33m\u001b[0m\u001b[0m\n\u001b[0;32m     44\u001b[0m     \u001b[1;33m[\u001b[0m\u001b[0moutput\u001b[0m\u001b[1;33m.\u001b[0m\u001b[0mappend\u001b[0m\u001b[1;33m(\u001b[0m\u001b[0mx\u001b[0m\u001b[1;33m)\u001b[0m \u001b[1;32mfor\u001b[0m \u001b[0mx\u001b[0m \u001b[1;32min\u001b[0m \u001b[0moot\u001b[0m\u001b[1;33m]\u001b[0m\u001b[1;33m\u001b[0m\u001b[0m\n",
      "\u001b[1;32m<ipython-input-360-fa38b953499a>\u001b[0m in \u001b[0;36mmodel_fourier\u001b[1;34m(params, agdd, n_harm)\u001b[0m\n\u001b[0;32m     21\u001b[0m \u001b[1;33m\u001b[0m\u001b[0m\n\u001b[0;32m     22\u001b[0m     \u001b[1;32mfor\u001b[0m \u001b[0mi\u001b[0m \u001b[1;32min\u001b[0m \u001b[0mrange\u001b[0m\u001b[1;33m(\u001b[0m\u001b[1;36m1\u001b[0m\u001b[1;33m,\u001b[0m \u001b[0mn_harm\u001b[0m \u001b[1;33m*\u001b[0m \u001b[1;36m4\u001b[0m\u001b[1;33m,\u001b[0m \u001b[1;36m4\u001b[0m\u001b[1;33m)\u001b[0m\u001b[1;33m:\u001b[0m\u001b[1;33m\u001b[0m\u001b[0m\n\u001b[1;32m---> 23\u001b[1;33m         \u001b[0mresult\u001b[0m \u001b[1;33m=\u001b[0m \u001b[0mresult\u001b[0m \u001b[1;33m+\u001b[0m \u001b[0mparams\u001b[0m\u001b[1;33m[\u001b[0m\u001b[0mi\u001b[0m\u001b[1;33m]\u001b[0m \u001b[1;33m*\u001b[0m \u001b[0mnp\u001b[0m\u001b[1;33m.\u001b[0m\u001b[0mcos\u001b[0m\u001b[1;33m(\u001b[0m\u001b[1;36m2.0\u001b[0m \u001b[1;33m*\u001b[0m \u001b[0mnp\u001b[0m\u001b[1;33m.\u001b[0m\u001b[0mpi\u001b[0m \u001b[1;33m*\u001b[0m \u001b[0mw\u001b[0m \u001b[1;33m*\u001b[0m \u001b[0mt\u001b[0m \u001b[1;33m/\u001b[0m \u001b[0mintegration_time\u001b[0m \u001b[1;33m+\u001b[0m \u001b[0mparams\u001b[0m\u001b[1;33m[\u001b[0m\u001b[0mi\u001b[0m\u001b[1;33m+\u001b[0m\u001b[1;36m1\u001b[0m\u001b[1;33m]\u001b[0m\u001b[1;33m)\u001b[0m                  \u001b[1;33m+\u001b[0m \u001b[0mparams\u001b[0m\u001b[1;33m[\u001b[0m\u001b[0mi\u001b[0m\u001b[1;33m+\u001b[0m\u001b[1;36m2\u001b[0m\u001b[1;33m]\u001b[0m\u001b[1;33m*\u001b[0m\u001b[0mnp\u001b[0m\u001b[1;33m.\u001b[0m\u001b[0msin\u001b[0m\u001b[1;33m(\u001b[0m\u001b[1;36m2.0\u001b[0m \u001b[1;33m*\u001b[0m \u001b[0mnp\u001b[0m\u001b[1;33m.\u001b[0m\u001b[0mpi\u001b[0m \u001b[1;33m*\u001b[0m \u001b[0mw\u001b[0m \u001b[1;33m*\u001b[0m \u001b[0mt\u001b[0m \u001b[1;33m/\u001b[0m \u001b[0mintegration_time\u001b[0m \u001b[1;33m+\u001b[0m \u001b[0mparams\u001b[0m\u001b[1;33m[\u001b[0m\u001b[0mi\u001b[0m\u001b[1;33m+\u001b[0m\u001b[1;36m3\u001b[0m\u001b[1;33m]\u001b[0m\u001b[1;33m)\u001b[0m\u001b[1;33m\u001b[0m\u001b[0m\n\u001b[0m\u001b[0;32m     24\u001b[0m         \u001b[0mw\u001b[0m \u001b[1;33m+=\u001b[0m \u001b[1;36m1\u001b[0m\u001b[1;33m\u001b[0m\u001b[0m\n\u001b[0;32m     25\u001b[0m \u001b[1;33m\u001b[0m\u001b[0m\n",
      "\u001b[1;31mKeyboardInterrupt\u001b[0m: "
     ]
    }
   ],
   "source": [
    "#191150,561100\n",
    "test=myfunction(989152,(a,b))"
   ]
  },
  {
   "cell_type": "code",
   "execution_count": 358,
   "metadata": {},
   "outputs": [
    {
     "data": {
      "text/plain": [
       "array([    0.        ,     0.        ,     0.        ,     0.        ,\n",
       "           0.        ,  1265.27076533,  1598.92855161,  1638.48903498,\n",
       "        1475.27701223,  1283.92745591,  1176.33602263,  1142.67293619,\n",
       "        1101.36538883,   995.48995915,   848.96436078,   733.31999641,\n",
       "         677.87740656,   628.52404612,   535.33488158,   506.03159778,\n",
       "         833.52833916,  1776.09331611,  3234.17912791,  4659.92658008,\n",
       "        5384.29350797,  5134.33938179,  4262.16445319,  3435.91630811,\n",
       "        3065.50028991,  3008.6738604 ,  2818.37903114,  2241.7627642 ,\n",
       "        1452.8486606 ,   824.09659814,   538.37108228,   466.40832405,\n",
       "         388.91091762,   256.93345285,   191.48612011,   268.54621461,\n",
       "         384.795285  ,   373.49778588,   222.30972471,   124.10865489,\n",
       "         292.88741112,   743.7333943 ])"
      ]
     },
     "execution_count": 358,
     "metadata": {},
     "output_type": "execute_result"
    }
   ],
   "source": [
    "test"
   ]
  },
  {
   "cell_type": "code",
   "execution_count": 279,
   "metadata": {},
   "outputs": [
    {
     "name": "stdout",
     "output_type": "stream",
     "text": [
      "[   0    0    0    0    0    0    0  511  373  242  249  317  315  257  266\n",
      "  357  407  352  293  344  461  559  780 1444 2655 4030 4986 5273 5105 4744\n",
      " 4128 3058 1684  559  132  283  495  449  280  261  396  460  359  260  329\n",
      "  483]\n"
     ]
    }
   ],
   "source": [
    "index=561100\n",
    "row=int(index/tot_cols)\n",
    "col=index-(tot_cols*row)\n",
    "lai_new[:,row,col]=test\n",
    "print(lai_new[:,row,col])"
   ]
  },
  {
   "cell_type": "code",
   "execution_count": null,
   "metadata": {
    "collapsed": true
   },
   "outputs": [],
   "source": [
    "start=time.time()\n",
    "with Pool(processes=3) as pool:\n",
    "    ind_start=988650+500\n",
    "    ind_end=ind_start+100\n",
    "    lai_values=pool.starmap(myfunction,l[ind_start:ind_end])\n",
    "    pool.close()\n",
    "    pool.join()\n",
    "end=time.time()\n",
    "print(end-start)\n",
    "print(lai_values.shape)"
   ]
  },
  {
   "cell_type": "code",
   "execution_count": null,
   "metadata": {
    "collapsed": true
   },
   "outputs": [],
   "source": [
    "start=time.time()\n",
    "profile=src.profile\n",
    "profile.update(count=46)\n",
    "print(profile)\n",
    "for j in range(len(lai_values)):\n",
    "    for index in list(range(ind_start,ind_end)):\n",
    "        row=int(index/tot_cols)\n",
    "        col=index-(tot_cols*row)\n",
    "        lai_new[:,row,col]=lai_values[index-ind_start]\n",
    "    \n",
    "    with rasterio.open('LAI_2015_corn_smoothed.tif', 'w', **profile) as dst:\n",
    "        dst.write(lai_new.astype(rasterio.uint16), 1)\n",
    "print(time.time()-start)"
   ]
  }
 ],
 "metadata": {
  "kernelspec": {
   "display_name": "Python 3",
   "language": "python",
   "name": "python3"
  },
  "language_info": {
   "codemirror_mode": {
    "name": "ipython",
    "version": 3
   },
   "file_extension": ".py",
   "mimetype": "text/x-python",
   "name": "python",
   "nbconvert_exporter": "python",
   "pygments_lexer": "ipython3",
   "version": "3.6.1"
  }
 },
 "nbformat": 4,
 "nbformat_minor": 2
}
