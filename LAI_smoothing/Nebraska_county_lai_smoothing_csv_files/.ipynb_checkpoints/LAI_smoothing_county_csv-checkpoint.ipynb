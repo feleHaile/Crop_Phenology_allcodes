{
 "cells": [
  {
   "cell_type": "code",
   "execution_count": 5,
   "metadata": {
    "collapsed": true
   },
   "outputs": [],
   "source": [
    "import pandas as pd\n",
    "import numpy as np\n",
    "import matplotlib.pyplot as plt"
   ]
  },
  {
   "cell_type": "code",
   "execution_count": 6,
   "metadata": {
    "collapsed": true
   },
   "outputs": [],
   "source": [
    "import os\n",
    "import pdb\n",
    "\n",
    "import numpy as np\n",
    "import pandas as pd\n",
    "from scipy.optimize import leastsq\n",
    "\n",
    "\n",
    "def model_fourier(params, agdd, n_harm):\n",
    "    \"\"\"\n",
    "    Fourier model\n",
    "    :param params:\n",
    "    :param agdd:\n",
    "    :param n_harm:\n",
    "    :return:\n",
    "    \"\"\"\n",
    "    integration_time = len(agdd)\n",
    "    t = np.arange(1, integration_time + 1)\n",
    "    result = t*.0 + params[0]\n",
    "    w = 1\n",
    "\n",
    "    for i in range(1, n_harm * 4, 4):\n",
    "        result = result + params[i] * np.cos(2.0 * np.pi * w * t / integration_time + params[i+1]) \\\n",
    "                 + params[i+2]*np.sin(2.0 * np.pi * w * t / integration_time + params[i+3])\n",
    "        w += 1\n",
    "\n",
    "    return result\n",
    "\n",
    "\n",
    "def mismatch_function(params, func_phenology, ndvi, agdd):\n",
    "    \"\"\"\n",
    "    The NDVI/Phenology model mismatch function\n",
    "    :param params:\n",
    "    :param func_phenology:\n",
    "    :param ndvi:\n",
    "    :param agdd:\n",
    "    :param years:\n",
    "    :return:\n",
    "    \"\"\"\n",
    "    # output stores the predictions\n",
    "    output = []\n",
    "\n",
    "    oot = ndvi - func_phenology(params, agdd, n_harm=8)\n",
    "\n",
    "    [output.append(x) for x in oot]\n",
    "\n",
    "    return np.array(output).squeeze()\n",
    "\n",
    "\n",
    "def do_fourier(ndvi, gdd, n_harm=8, init_params=None):\n",
    "    \"\"\"\n",
    "    :param ndvi:\n",
    "    :param gdd:\n",
    "    :param n_harm:\n",
    "    :param init_params:\n",
    "    :return:\n",
    "    \"\"\"\n",
    "    n_params = 1 + n_harm * 4\n",
    "\n",
    "    if init_params is None:\n",
    "        init_params = [.25, ] * n_params\n",
    "        (xsol, mesg) = leastsq(mismatch_function, init_params, args=(model_fourier, ndvi, gdd), maxfev=1000000)\n",
    "        model_fitted = model_fourier(xsol, gdd, n_harm)\n",
    "\n",
    "    return model_fitted\n",
    "\n",
    "\n",
    "def get_PTD(df):\n",
    "    \"\"\"\n",
    "    Get phenological transition dates (greenup, senescence)\n",
    "    :param df:\n",
    "    :return:\n",
    "    \"\"\"\n",
    "    # Input dataframe has an index comprised of day of year and remaining columns signify NDVI\n",
    "    # Linearly interpolate dataframe columns to fill in missing values\n",
    "    #plot(df['lai'].tolist())\n",
    "    df = df.apply(pd.Series.interpolate)\n",
    "    #plot(df['lai'].tolist())\n",
    "    # Now compute mean of all columns and get the smoothened NDVI\n",
    "    arr_smooth = do_fourier(df.mean(axis=1), [8.0] * len(df))\n",
    "    #plot(arr_smooth)\n",
    "    return arr_smooth"
   ]
  },
  {
   "cell_type": "code",
   "execution_count": 7,
   "metadata": {
    "scrolled": false
   },
   "outputs": [
    {
     "name": "stderr",
     "output_type": "stream",
     "text": [
      "C:\\Users\\koutilya\\AppData\\Local\\Continuum\\Anaconda3\\envs\\CCMS\\lib\\site-packages\\ipykernel_launcher.py:14: DeprecationWarning: \n",
      ".ix is deprecated. Please use\n",
      ".loc for label based indexing or\n",
      ".iloc for positional indexing\n",
      "\n",
      "See the documentation here:\n",
      "http://pandas.pydata.org/pandas-docs/stable/indexing.html#deprecate_ix\n",
      "  \n"
     ]
    }
   ],
   "source": [
    "def myfunction(path):\n",
    "    r=pd.read_csv(path).drop('Unnamed: 0',axis=1)[['GEOID','DOY','lai']]\n",
    "    r['lai_smoothed']=0\n",
    "    geoids=list(set(r.GEOID.tolist()))\n",
    "\n",
    "    x=[8]*45\n",
    "    x.append(5) #to make the total of 365 days\n",
    "    w=r.loc[np.repeat(r.index.values,x*93)].reset_index(drop=True) # repeat the same value for the next 8 days\n",
    "    w.DOY=list(range(1,366,1))*93\n",
    "    w=pd.merge(w, r,  how='left', left_on=['GEOID','DOY'], right_on = ['GEOID','DOY']).drop(['lai_x','lai_smoothed_x'],axis=1)\n",
    "    w.columns=['GEOID', 'DOY', 'lai', 'lai_smoothed']\n",
    "    \n",
    "    for g in geoids :\n",
    "        p=w.ix[w.GEOID==g].reset_index(drop=True)\n",
    "        w.ix[w.GEOID==g,'lai_smoothed']=get_PTD(pd.Series.to_frame(p.loc[0:366]['lai']))\n",
    "    w['lai_smoothed'] = w['lai_smoothed'].clip(lower=0)\n",
    "    w.to_csv(path[:-4]+'_smoothed.csv')\n",
    "    \n",
    "myfunction('LAI_2012_corn.csv')\n",
    "myfunction('LAI_2013_corn.csv')\n",
    "myfunction('LAI_2015_corn.csv')\n",
    "myfunction('LAI_2016_corn_updated.csv')\n",
    "\n",
    "myfunction('LAI_2012_soy.csv')\n",
    "myfunction('LAI_2013_soy.csv')\n",
    "myfunction('LAI_2015_soy.csv')\n",
    "myfunction('LAI_2016_soy_updated.csv')\n",
    "\n",
    "myfunction('LAI_2012_wheat.csv')\n",
    "myfunction('LAI_2013_wheat.csv')\n",
    "myfunction('LAI_2015_wheat.csv')\n",
    "myfunction('LAI_2016_wheat_updated.csv')\n"
   ]
  },
  {
   "cell_type": "code",
   "execution_count": null,
   "metadata": {
    "collapsed": true
   },
   "outputs": [],
   "source": [
    "def plot(l):\n",
    "    plt.plot(l)\n",
    "    plt.xlabel(\"DOY\")\n",
    "    plt.ylabel(\"LAI\")\n",
    "    plt.title(\"LAI time series plot\")\n",
    "    plt.show()"
   ]
  }
 ],
 "metadata": {
  "kernelspec": {
   "display_name": "Python 3",
   "language": "python",
   "name": "python3"
  },
  "language_info": {
   "codemirror_mode": {
    "name": "ipython",
    "version": 3
   },
   "file_extension": ".py",
   "mimetype": "text/x-python",
   "name": "python",
   "nbconvert_exporter": "python",
   "pygments_lexer": "ipython3",
   "version": "3.6.1"
  }
 },
 "nbformat": 4,
 "nbformat_minor": 2
}
