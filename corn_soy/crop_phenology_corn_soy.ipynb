{
 "cells": [
  {
   "cell_type": "code",
   "execution_count": 55,
   "metadata": {
    "collapsed": true
   },
   "outputs": [],
   "source": [
    "import pandas as pd\n",
    "import numpy as np\n",
    "import rasterio\n",
    "import time\n",
    "import random"
   ]
  },
  {
   "cell_type": "code",
   "execution_count": 56,
   "metadata": {
    "collapsed": true
   },
   "outputs": [],
   "source": [
    "df_insert = pd.DataFrame({'NDVI_corn': [np.NaN]*7,\n",
    "                            'NDVI_soy': [np.NaN]*7,\n",
    "                            'NDVI_wheat': [np.NaN]*7})\n",
    "def dataframe_extraction(r1,r2,r3,row,col):\n",
    "    \"\"\"This function returns a pandas dataframe that holds the NDVI values for 1-365 doys of 2015 and 2016 years.\n",
    "    inputs: r1, r2: the NDVI Rasterstacks for 2015 and 2016 years. Each raster has 365 layers one corresponding to a doy of that year.\n",
    "            row, col: the row and column of the raster pixel we would like to get the dataframe for \"\"\"\n",
    "    id=np.array(range(1,1+r1.shape[0]))\n",
    "    data_frame = (pd.DataFrame({'NDVI_corn':r1[0:r1.shape[0]+1:1,row,col],\n",
    "                                  'NDVI_soy':r2[0:r1.shape[0]+1:1,row,col],\n",
    "                                   'NDVI_wheat':r3[0:r1.shape[0]+1:1,row,col]},index=id))\n",
    "    df=pd.DataFrame()\n",
    "    for i in range(len(data_frame)):\n",
    "        df=pd.concat([df,data_frame.iloc[[i]],df_insert])\n",
    "    df.index=range(1,1+len(df.index))\n",
    "    return df[:313]"
   ]
  },
  {
   "cell_type": "code",
   "execution_count": 57,
   "metadata": {
    "scrolled": true
   },
   "outputs": [
    {
     "data": {
      "text/plain": [
       "'with rasterio.open(\\'/Users/koutilya/Downloads/MOD09A1.h10v04.brdf_corrected/MOD09A1.A2015113.h10v04.brdf_product.02.01.tif\\') as src:\\n    print(\"CRS: \", src.crs)\\n    print(\"Band Count: \",src.count)   #Band count\\n    print(\"Indexes: \", src.indexes)\\n    print(\"Raster width:\", src.width)\\n    print(\"Raster height:\", src.height)\\n    print(\"DTypes of the Raster: \", src.dtypes)\\n    print(\"Extent of the Raster: \", src.bounds)\\n    print(\"Transformation from points to XYZ: \", src.transform)\\n    print(\"sample coordinate of the left uppermost point: \", src.transform * (0, 0))#row=0 column=0\\n    a=src.read()\\n    print(\"Total Count: \", (a.size))\\n    print(a.shape)\\n    print(a[0,1200,1200])\\nsrc=rasterio.open(\\'MOD09A1.A2015113.h10v04.brdf_product.02.01.tif\\')\\na=src.read()\\nprint(a.shape)\\nk=rasterio.open(\\'MOD09A1.A2016113.h10v04.brdf_product.02.01.tif\\')\\nb=k.read()\\nprint(dataframe_extraction(a,b,1200,1200))'"
      ]
     },
     "execution_count": 57,
     "metadata": {},
     "output_type": "execute_result"
    }
   ],
   "source": [
    "\"\"\"with rasterio.open('/Users/koutilya/Downloads/MOD09A1.h10v04.brdf_corrected/MOD09A1.A2015113.h10v04.brdf_product.02.01.tif') as src:\n",
    "    print(\"CRS: \", src.crs)\n",
    "    print(\"Band Count: \",src.count)   #Band count\n",
    "    print(\"Indexes: \", src.indexes)\n",
    "    print(\"Raster width:\", src.width)\n",
    "    print(\"Raster height:\", src.height)\n",
    "    print(\"DTypes of the Raster: \", src.dtypes)\n",
    "    print(\"Extent of the Raster: \", src.bounds)\n",
    "    print(\"Transformation from points to XYZ: \", src.transform)\n",
    "    print(\"sample coordinate of the left uppermost point: \", src.transform * (0, 0))#row=0 column=0\n",
    "    a=src.read()\n",
    "    print(\"Total Count: \", (a.size))\n",
    "    print(a.shape)\n",
    "    print(a[0,1200,1200])\n",
    "src=rasterio.open('MOD09A1.A2015113.h10v04.brdf_product.02.01.tif')\n",
    "a=src.read()\n",
    "print(a.shape)\n",
    "k=rasterio.open('MOD09A1.A2016113.h10v04.brdf_product.02.01.tif')\n",
    "b=k.read()\n",
    "print(dataframe_extraction(a,b,1200,1200))\"\"\""
   ]
  },
  {
   "cell_type": "code",
   "execution_count": 58,
   "metadata": {
    "collapsed": true
   },
   "outputs": [],
   "source": [
    "import os\n",
    "import pdb\n",
    "\n",
    "import numpy as np\n",
    "import pandas as pd\n",
    "from scipy.optimize import leastsq\n",
    "\n",
    "\n",
    "def model_fourier(params, agdd, n_harm):\n",
    "    \"\"\"\n",
    "    Fourier model\n",
    "    :param params:\n",
    "    :param agdd:\n",
    "    :param n_harm:\n",
    "    :return:\n",
    "    \"\"\"\n",
    "    integration_time = len(agdd)\n",
    "    t = np.arange(1, integration_time + 1)\n",
    "    result = t*.0 + params[0]\n",
    "    w = 1\n",
    "\n",
    "    for i in range(1, n_harm * 4, 4):\n",
    "        result = result + params[i] * np.cos(2.0 * np.pi * w * t / integration_time + params[i+1]) \\\n",
    "                 + params[i+2]*np.sin(2.0 * np.pi * w * t / integration_time + params[i+3])\n",
    "        w += 1\n",
    "\n",
    "    return result\n",
    "\n",
    "\n",
    "def mismatch_function(params, func_phenology, ndvi, agdd):\n",
    "    \"\"\"\n",
    "    The NDVI/Phenology model mismatch function\n",
    "    :param params:\n",
    "    :param func_phenology:\n",
    "    :param ndvi:\n",
    "    :param agdd:\n",
    "    :param years:\n",
    "    :return:\n",
    "    \"\"\"\n",
    "    # output stores the predictions\n",
    "    output = []\n",
    "\n",
    "    oot = ndvi - func_phenology(params, agdd, n_harm=8)\n",
    "\n",
    "    [output.append(x) for x in oot]\n",
    "\n",
    "    return np.array(output).squeeze()\n",
    "\n",
    "\n",
    "def do_fourier(ndvi, gdd, n_harm=8, init_params=None):\n",
    "    \"\"\"\n",
    "    :param ndvi:\n",
    "    :param gdd:\n",
    "    :param n_harm:\n",
    "    :param init_params:\n",
    "    :return:\n",
    "    \"\"\"\n",
    "    n_params = 1 + n_harm * 4\n",
    "\n",
    "    if init_params is None:\n",
    "        init_params = [.25, ] * n_params\n",
    "        (xsol, mesg) = leastsq(mismatch_function, init_params, args=(model_fourier, ndvi, gdd), maxfev=1000000)\n",
    "        model_fitted = model_fourier(xsol, gdd, n_harm)\n",
    "\n",
    "    return model_fitted\n",
    "\n",
    "\n",
    "def get_PTD(df,gl,gu,sl,su):\n",
    "    \"\"\"\n",
    "    Get phenological transition dates (greenup, senescence)\n",
    "    :param df:\n",
    "    :return:\n",
    "    \"\"\"\n",
    "    # Input dataframe has an index comprised of day of year and remaining columns signify NDVI\n",
    "    # Linearly interpolate dataframe columns to fill in missing values\n",
    "    df = df.apply(pd.Series.interpolate)\n",
    "    \n",
    "    # Now compute mean of all columns and get the smoothened NDVI\n",
    "    arr_smooth = do_fourier(df.mean(axis=1), [8.0] * len(df))\n",
    "    \"\"\"plt.plot(list(range(len(arr_smooth))),arr_smooth)\n",
    "    plt.xlabel(\"DOY\")\n",
    "    plt.ylabel(\"NDVI\")\n",
    "    plt.title(\"NDVI smoothened plot\")\n",
    "    plt.show()\"\"\"\n",
    "    \n",
    "    # For all other crops and regions, take differential\n",
    "    # To get doy_green, find the last occurrence of the max differential\n",
    "    diff_green = np.diff(arr_smooth[:365 + 1])\n",
    "    \n",
    "    \"\"\"plt.plot(list(range(len(diff_green))),diff_green)\n",
    "    plt.xlabel(\"DOY\")\n",
    "    plt.ylabel(\"NDVI differential\")\n",
    "    plt.title(\"NDVI diff_green plot\")\n",
    "    plt.show()\"\"\"\n",
    "    #doy_green = np.where(diff_green == diff_green[gl:gu+1].max())[0][-1]\n",
    "    #doy_senesc = np.diff(arr_smooth[:365 + 1]).argmin()\n",
    "    green_indices=np.where(diff_green == diff_green[gl:gu+1].max())[0]\n",
    "    for i in green_indices:\n",
    "        if i<=gu and i>=gl:\n",
    "            doy_green = i\n",
    "            break\n",
    "    sen_indices=np.where(diff_green == diff_green[sl:su+1].min())[0]\n",
    "    for i in sen_indices:\n",
    "        if i<=su and i>=sl:\n",
    "            doy_senesc = i\n",
    "            break\n",
    "    return doy_green, doy_senesc"
   ]
  },
  {
   "cell_type": "code",
   "execution_count": 59,
   "metadata": {
    "collapsed": true
   },
   "outputs": [],
   "source": [
    "#from pathos.multiprocessing import ProcessingPool as Pool\n",
    "from multiprocessing import Pool\n",
    "import matplotlib.pyplot as plt\n",
    "%matplotlib inline\n",
    "def initialize_rasters(path1,path2,path3):\n",
    "    raster1=rasterio.open(path1)\n",
    "    tot_cols=raster1.width\n",
    "    tot_rows=raster1.height\n",
    "    a=raster1.read()\n",
    "    print(\"Tot rows: \",tot_rows,\" Tot cols: \",tot_cols)\n",
    "    raster2=rasterio.open(path2)\n",
    "    b=raster2.read()\n",
    "    raster3=rasterio.open(path3)\n",
    "    c=raster3.read()\n",
    "    if(b.shape[0]!=a.shape[0]):\n",
    "        print(\"determine what doy you are missing!!\")\n",
    "        t1=b[0:6] #determine what doy you are missing!! in this case its DOY49 thus insert as 7th layer\n",
    "        t2=b[6:b.shape[0]]\n",
    "        p=b[0]*0\n",
    "        p=p.reshape(1,tot_rows,tot_cols)\n",
    "\n",
    "        tp=np.append(t1,p,axis=0)\n",
    "        b=np.append(tp,t2,axis=0)\n",
    "        #print(b.shape)\n",
    "    return (a,b,c,tot_rows,tot_cols)\n",
    "def ritvik_fn(df,gl,gu,sl,su):\n",
    "    #return (random.randint(1,50),random.randint(120,365))\n",
    "    return get_PTD(df,gl,gu,sl,su)\n",
    "\n",
    "def myfunction(index,rasters):\n",
    "    a=rasters[0]\n",
    "    b=rasters[1]\n",
    "    c=rasters[2]\n",
    "    tot_cols=a.shape[2]\n",
    "    tot_rows=a.shape[1]\n",
    "    #print(\"Tot rows: \",tot_rows,\" Tot cols: \",tot_cols)\n",
    "    row=int(index/tot_cols)\n",
    "    col=index-(tot_cols*row)\n",
    "    #print(\"row: \",row,\" col: \",col)\n",
    "    df=dataframe_extraction(a,b,c,row,col)\n",
    "    df[df<0]=None\n",
    "    \n",
    "    first_valid_indices=df.apply(lambda col: col.first_valid_index())\n",
    "    for col in range(len(df.columns)):\n",
    "        df.loc[1][col]=df.loc[first_valid_indices[col]][col] #ensuring the first values of all columns are not None/NA\n",
    "\n",
    "    #print(df)\n",
    "    pairs=list()\n",
    "    for col in df.columns:\n",
    "        if col=='NDVI_corn':\n",
    "            gl=140\n",
    "            gu=176\n",
    "            sl=213\n",
    "            su=305\n",
    "        elif col=='NDVI_soy':\n",
    "            gl=156\n",
    "            gu=196\n",
    "            sl=227\n",
    "            su=290\n",
    "        elif col=='NDVI_wheat':\n",
    "            gl=10\n",
    "            gu=60\n",
    "            sl=135\n",
    "            su=196\n",
    "        ndvi=df[col].tolist()\n",
    "        clean=[x for x in ndvi if str(x) != 'nan']\n",
    "        clean = [max(0, min(x, 10000)) for x in clean]\n",
    "        maxi=int(max(clean))\n",
    "        \"\"\"plt.plot(list(range(len(clean))),clean)\n",
    "        plt.xlabel(\"DOY\")\n",
    "        plt.ylabel(\"NDVI\")\n",
    "        plt.title(\"NDVI time series plot\")\n",
    "        plt.show()\"\"\"\n",
    "        if(maxi>2000 and len(clean)>0):\n",
    "            g,s=ritvik_fn(pd.Series.to_frame(df[col]),gl,gu,sl,su)\n",
    "        else:\n",
    "            g=0\n",
    "            s=0\n",
    "        pairs.append((g,s))\n",
    "\n",
    "    return pairs"
   ]
  },
  {
   "cell_type": "markdown",
   "metadata": {},
   "source": [
    "The doy interval we need to consider for the dataframe passed into ritvik_fn changes from crop to crop and ste to state. For eg, for winter wheat in Kansas, greep up happens in 1:60 doys and sennescence in 125:200 doys."
   ]
  },
  {
   "cell_type": "code",
   "execution_count": 60,
   "metadata": {
    "scrolled": true
   },
   "outputs": [
    {
     "name": "stdout",
     "output_type": "stream",
     "text": [
      "Tot rows:  757  Tot cols:  1521\n"
     ]
    }
   ],
   "source": [
    "##a,b,tot_rows,tot_cols=initialize_rasters(\"A2015_177_ndvi_480m.tif\",\"A2015_185_ndvi_480m.tif\")\n",
    "#src=rasterio.open('NDVI_480m_stack_soy.tif')\n",
    "#a,b,tot_rows,tot_cols=initialize_rasters('NDVI_480m_stack_corn.tif','NDVI_480m_stack_soy.tif')\n",
    "src=rasterio.open('MOD09Q1.A2012.NE.BRDF_ndvistack_corn.tif')\n",
    "a,b,c,tot_rows,tot_cols=initialize_rasters('MOD09Q1.A2012.NE.BRDF_ndvistack_corn.tif','MOD09Q1.A2012.NE.BRDF_ndvistack_soy.tif','MOD09Q1.A2012.NE.BRDF_ndvistack_wheat.tif')\n",
    "y=[(a,b,c)]*tot_rows*tot_cols\n",
    "ind=range(tot_rows*tot_cols)\n",
    "l=list()\n",
    "l=list(list(zip(ind,y))[:])\n",
    "greenup=a[1]*0\n",
    "sen=a[1]*0\n",
    "plant=a[1]*0\n",
    "har=a[1]*0\n",
    "plant=plant.astype('int32')\n",
    "har=har.astype('int32')"
   ]
  },
  {
   "cell_type": "code",
   "execution_count": 61,
   "metadata": {
    "scrolled": false
   },
   "outputs": [
    {
     "data": {
      "text/plain": [
       "[(164, 290), (178, 249), (0, 0)]"
      ]
     },
     "execution_count": 61,
     "metadata": {},
     "output_type": "execute_result"
    }
   ],
   "source": [
    "index_test=575698+23+3+5\n",
    "myfunction(l[index_test][0],l[index_test][1])"
   ]
  },
  {
   "cell_type": "code",
   "execution_count": 62,
   "metadata": {
    "scrolled": false
   },
   "outputs": [
    {
     "name": "stdout",
     "output_type": "stream",
     "text": [
      "150.10208415985107\n",
      "[[(159, 262), (186, 260), (51, 143)], [(160, 267), (0, 0), (0, 0)], [(164, 264), (0, 0), (0, 0)], [(0, 0), (0, 0), (0, 0)], [(0, 0), (0, 0), (60, 147)], [(0, 0), (0, 0), (0, 0)], [(169, 263), (0, 0), (0, 0)], [(0, 0), (0, 0), (0, 0)], [(0, 0), (0, 0), (0, 0)], [(0, 0), (0, 0), (0, 0)], [(0, 0), (0, 0), (0, 0)], [(0, 0), (0, 0), (0, 0)], [(0, 0), (0, 0), (0, 0)], [(163, 292), (0, 0), (10, 142)], [(165, 257), (0, 0), (10, 144)], [(161, 293), (0, 0), (0, 0)], [(162, 252), (0, 0), (0, 0)], [(157, 292), (0, 0), (0, 0)], [(0, 0), (0, 0), (0, 0)], [(160, 219), (0, 0), (0, 0)], [(166, 230), (0, 0), (0, 0)], [(169, 241), (0, 0), (0, 0)], [(164, 232), (0, 0), (0, 0)], [(163, 226), (0, 0), (0, 0)], [(165, 230), (0, 0), (0, 0)], [(163, 230), (173, 255), (0, 0)], [(163, 230), (0, 0), (0, 0)], [(160, 230), (0, 0), (0, 0)], [(0, 0), (0, 0), (0, 0)], [(0, 0), (0, 0), (0, 0)], [(0, 0), (0, 0), (0, 0)], [(164, 226), (0, 0), (0, 0)], [(167, 231), (0, 0), (0, 0)], [(170, 231), (0, 0), (0, 0)], [(171, 230), (0, 0), (10, 148)], [(0, 0), (0, 0), (10, 149)], [(159, 293), (0, 0), (0, 0)], [(159, 293), (0, 0), (0, 0)], [(161, 293), (0, 0), (0, 0)], [(160, 292), (0, 0), (0, 0)], [(156, 251), (0, 0), (0, 0)], [(156, 231), (0, 0), (0, 0)], [(166, 233), (157, 290), (0, 0)], [(154, 260), (0, 0), (60, 135)], [(0, 0), (0, 0), (60, 135)], [(0, 0), (0, 0), (0, 0)], [(158, 232), (0, 0), (0, 0)], [(0, 0), (0, 0), (10, 143)], [(0, 0), (0, 0), (10, 144)], [(158, 219), (0, 0), (10, 142)], [(158, 220), (0, 0), (10, 139)], [(162, 223), (0, 0), (10, 137)], [(0, 0), (0, 0), (0, 0)], [(0, 0), (0, 0), (0, 0)], [(0, 0), (0, 0), (10, 137)], [(0, 0), (0, 0), (10, 139)], [(156, 292), (0, 0), (0, 0)], [(0, 0), (0, 0), (0, 0)], [(0, 0), (0, 0), (0, 0)], [(162, 293), (0, 0), (38, 142)], [(0, 0), (0, 0), (10, 142)], [(0, 0), (0, 0), (10, 141)], [(162, 215), (0, 0), (10, 141)], [(164, 215), (0, 0), (0, 0)], [(0, 0), (0, 0), (0, 0)], [(0, 0), (0, 0), (0, 0)], [(0, 0), (0, 0), (0, 0)], [(0, 0), (0, 0), (0, 0)], [(0, 0), (0, 0), (0, 0)], [(0, 0), (0, 0), (0, 0)], [(140, 273), (0, 0), (0, 0)], [(140, 273), (0, 0), (0, 0)], [(0, 0), (0, 0), (0, 0)], [(165, 213), (0, 0), (40, 142)], [(0, 0), (0, 0), (40, 141)], [(0, 0), (0, 0), (0, 0)], [(157, 286), (165, 228), (42, 138)], [(157, 286), (165, 228), (0, 0)], [(0, 0), (0, 0), (0, 0)], [(158, 286), (0, 0), (0, 0)], [(0, 0), (0, 0), (0, 0)], [(0, 0), (0, 0), (0, 0)], [(155, 291), (0, 0), (0, 0)], [(155, 291), (176, 248), (0, 0)], [(155, 289), (166, 248), (0, 0)], [(155, 289), (164, 248), (0, 0)], [(0, 0), (0, 0), (0, 0)], [(0, 0), (0, 0), (0, 0)], [(160, 289), (0, 0), (45, 142)], [(161, 289), (0, 0), (0, 0)], [(0, 0), (0, 0), (46, 142)], [(0, 0), (0, 0), (0, 0)], [(0, 0), (0, 0), (0, 0)], [(0, 0), (0, 0), (0, 0)], [(162, 293), (0, 0), (0, 0)], [(0, 0), (0, 0), (0, 0)], [(0, 0), (0, 0), (44, 149)], [(0, 0), (0, 0), (43, 152)], [(0, 0), (0, 0), (50, 153)], [(0, 0), (0, 0), (47, 143)]]\n"
     ]
    }
   ],
   "source": [
    "start=time.time()\n",
    "with Pool(processes=3) as pool:\n",
    "    ind_start=988650+500\n",
    "    ind_end=ind_start+100\n",
    "    pairs_crops=pool.starmap(myfunction,l[ind_start:ind_end])\n",
    "    pool.close()\n",
    "    pool.join()\n",
    "end=time.time()\n",
    "print(end-start)\n",
    "print(pairs_crops)"
   ]
  },
  {
   "cell_type": "code",
   "execution_count": 70,
   "metadata": {},
   "outputs": [
    {
     "name": "stdout",
     "output_type": "stream",
     "text": [
      "{'interleave': 'pixel', 'driver': 'GTiff', 'width': 1521, 'count': 1, 'crs': CRS({'towgs84': '0,0,0,0,0,0,0', 'lat_0': 23, 'wktext': True, 'ellps': 'GRS80', 'y_0': 0, 'lat_2': 45.5, 'x_0': 0, 'lon_0': -96, 'lat_1': 29.5, 'proj': 'aea', 'no_defs': True, 'units': 'm'}), 'height': 757, 'transform': Affine(480.0, 0.0, -671205.0,\n",
      "       0.0, -480.0, 2250435.0), 'dtype': 'uint16', 'nodata': 0.0, 'tiled': False}\n",
      "0.1124119758605957\n"
     ]
    }
   ],
   "source": [
    "start=time.time()\n",
    "profile=src.profile\n",
    "profile.update(count=1)\n",
    "print(profile)\n",
    "for j in range(len(pairs_crops[1])):\n",
    "    pairs=[pairs_crops[i][j] for i in range(len(pairs_crops))]\n",
    "    greenup=a[1]*0\n",
    "    sen=a[1]*0\n",
    "    for index in list(range(ind_start,ind_end)):\n",
    "        row=int(index/tot_cols)\n",
    "        col=index-(tot_cols*row)\n",
    "        greenup[row][col]=pairs[index-ind_start][0]\n",
    "        #plant[row][col]=pairs[index-ind_start][0]-15\n",
    "        #print(\"Row: \",row,\" Col: \",col,\" \",greenup[row][col])\n",
    "        sen[row][col]=pairs[index-ind_start][1]\n",
    "        #har[row][col]=pairs[index-ind_start][1]+45\n",
    "    #np.clip(plant, 1, 365, out=plant)\n",
    "    #np.clip(har, 1, 365, out=har)\n",
    "    #plant=plant.astype('uint32')\n",
    "    #har=har.astype('uint32')\n",
    "    \n",
    "    with rasterio.open('greenup_'+str(j)+'.tif', 'w', **profile) as dst:\n",
    "        dst.write(greenup.astype(rasterio.uint16), 1)\n",
    "    with rasterio.open('sen_'+str(j)+'.tif', 'w', **profile) as dst:\n",
    "        dst.write(sen.astype(rasterio.uint16), 1)\n",
    "print(time.time()-start)"
   ]
  },
  {
   "cell_type": "code",
   "execution_count": 68,
   "metadata": {},
   "outputs": [
    {
     "data": {
      "text/plain": [
       "[(159, 262), (186, 260), (51, 143)]"
      ]
     },
     "execution_count": 68,
     "metadata": {},
     "output_type": "execute_result"
    }
   ],
   "source": [
    "pairs_crops[0][j][]"
   ]
  },
  {
   "cell_type": "code",
   "execution_count": 69,
   "metadata": {},
   "outputs": [
    {
     "data": {
      "text/plain": [
       "100"
      ]
     },
     "execution_count": 69,
     "metadata": {},
     "output_type": "execute_result"
    }
   ],
   "source": [
    "len(pairs_crops)"
   ]
  },
  {
   "cell_type": "code",
   "execution_count": null,
   "metadata": {
    "collapsed": true
   },
   "outputs": [],
   "source": []
  }
 ],
 "metadata": {
  "anaconda-cloud": {},
  "kernelspec": {
   "display_name": "Python 3",
   "language": "python",
   "name": "python3"
  },
  "language_info": {
   "codemirror_mode": {
    "name": "ipython",
    "version": 3
   },
   "file_extension": ".py",
   "mimetype": "text/x-python",
   "name": "python",
   "nbconvert_exporter": "python",
   "pygments_lexer": "ipython3",
   "version": "3.5.3"
  }
 },
 "nbformat": 4,
 "nbformat_minor": 2
}
