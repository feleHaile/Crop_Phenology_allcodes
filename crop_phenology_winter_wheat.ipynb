{
 "cells": [
  {
   "cell_type": "code",
   "execution_count": 2,
   "metadata": {
    "collapsed": true
   },
   "outputs": [],
   "source": [
    "import pandas as pd\n",
    "import numpy as np\n",
    "import rasterio\n",
    "import time\n",
    "import random"
   ]
  },
  {
   "cell_type": "code",
   "execution_count": 3,
   "metadata": {
    "collapsed": true
   },
   "outputs": [],
   "source": [
    "df_insert = pd.DataFrame({'NDVI_2014': [np.NaN]*7,\n",
    "                    'NDVI_2015': [np.NaN]*7})\n",
    "def dataframe_extraction(r1,r2,row,col):\n",
    "    \"\"\"This function returns a pandas dataframe that holds the NDVI values for 1-365 doys of 2015 and 2016 years.\n",
    "    inputs: r1, r2: the NDVI Rasterstacks for 2015 and 2016 years. Each raster has 365 layers one corresponding to a doy of that year.\n",
    "            row, col: the row and column of the raster pixel we would like to get the dataframe for \"\"\"\n",
    "    id=np.array(range(1,1+r1.shape[0]))\n",
    "    data_frame = (pd.DataFrame({'NDVI_2014':r1[0:r1.shape[0]+1:1,row,col],\n",
    "                          'NDVI_2015':r2[0:r1.shape[0]+1:1,row,col]},index=id))\n",
    "    df=pd.DataFrame()\n",
    "    for i in range(len(data_frame)):\n",
    "        df=pd.concat([df,data_frame.iloc[[i]],df_insert])\n",
    "    df.index=range(1,369)\n",
    "    return df[:365]"
   ]
  },
  {
   "cell_type": "code",
   "execution_count": 4,
   "metadata": {
    "scrolled": true
   },
   "outputs": [
    {
     "data": {
      "text/plain": [
       "'with rasterio.open(\\'/Users/koutilya/Downloads/MOD09A1.h10v04.brdf_corrected/MOD09A1.A2015113.h10v04.brdf_product.02.01.tif\\') as src:\\n    print(\"CRS: \", src.crs)\\n    print(\"Band Count: \",src.count)   #Band count\\n    print(\"Indexes: \", src.indexes)\\n    print(\"Raster width:\", src.width)\\n    print(\"Raster height:\", src.height)\\n    print(\"DTypes of the Raster: \", src.dtypes)\\n    print(\"Extent of the Raster: \", src.bounds)\\n    print(\"Transformation from points to XYZ: \", src.transform)\\n    print(\"sample coordinate of the left uppermost point: \", src.transform * (0, 0))#row=0 column=0\\n    a=src.read()\\n    print(\"Total Count: \", (a.size))\\n    print(a.shape)\\n    print(a[0,1200,1200])\\nsrc=rasterio.open(\\'MOD09A1.A2015113.h10v04.brdf_product.02.01.tif\\')\\na=src.read()\\nprint(a.shape)\\nk=rasterio.open(\\'MOD09A1.A2016113.h10v04.brdf_product.02.01.tif\\')\\nb=k.read()\\nprint(dataframe_extraction(a,b,1200,1200))'"
      ]
     },
     "execution_count": 4,
     "metadata": {},
     "output_type": "execute_result"
    }
   ],
   "source": [
    "\"\"\"with rasterio.open('/Users/koutilya/Downloads/MOD09A1.h10v04.brdf_corrected/MOD09A1.A2015113.h10v04.brdf_product.02.01.tif') as src:\n",
    "    print(\"CRS: \", src.crs)\n",
    "    print(\"Band Count: \",src.count)   #Band count\n",
    "    print(\"Indexes: \", src.indexes)\n",
    "    print(\"Raster width:\", src.width)\n",
    "    print(\"Raster height:\", src.height)\n",
    "    print(\"DTypes of the Raster: \", src.dtypes)\n",
    "    print(\"Extent of the Raster: \", src.bounds)\n",
    "    print(\"Transformation from points to XYZ: \", src.transform)\n",
    "    print(\"sample coordinate of the left uppermost point: \", src.transform * (0, 0))#row=0 column=0\n",
    "    a=src.read()\n",
    "    print(\"Total Count: \", (a.size))\n",
    "    print(a.shape)\n",
    "    print(a[0,1200,1200])\n",
    "src=rasterio.open('MOD09A1.A2015113.h10v04.brdf_product.02.01.tif')\n",
    "a=src.read()\n",
    "print(a.shape)\n",
    "k=rasterio.open('MOD09A1.A2016113.h10v04.brdf_product.02.01.tif')\n",
    "b=k.read()\n",
    "print(dataframe_extraction(a,b,1200,1200))\"\"\""
   ]
  },
  {
   "cell_type": "code",
   "execution_count": 5,
   "metadata": {
    "collapsed": true
   },
   "outputs": [],
   "source": [
    "import os\n",
    "import pdb\n",
    "\n",
    "import numpy as np\n",
    "import pandas as pd\n",
    "from scipy.optimize import leastsq\n",
    "\n",
    "\n",
    "def model_fourier(params, agdd, n_harm):\n",
    "    \"\"\"\n",
    "    Fourier model\n",
    "    :param params:\n",
    "    :param agdd:\n",
    "    :param n_harm:\n",
    "    :return:\n",
    "    \"\"\"\n",
    "    integration_time = len(agdd)\n",
    "    t = np.arange(1, integration_time + 1)\n",
    "    result = t*.0 + params[0]\n",
    "    w = 1\n",
    "\n",
    "    for i in range(1, n_harm * 4, 4):\n",
    "        result = result + params[i] * np.cos(2.0 * np.pi * w * t / integration_time + params[i+1]) \\\n",
    "                 + params[i+2]*np.sin(2.0 * np.pi * w * t / integration_time + params[i+3])\n",
    "        w += 1\n",
    "\n",
    "    return result\n",
    "\n",
    "\n",
    "def mismatch_function(params, func_phenology, ndvi, agdd):\n",
    "    \"\"\"\n",
    "    The NDVI/Phenology model mismatch function\n",
    "    :param params:\n",
    "    :param func_phenology:\n",
    "    :param ndvi:\n",
    "    :param agdd:\n",
    "    :param years:\n",
    "    :return:\n",
    "    \"\"\"\n",
    "    # output stores the predictions\n",
    "    output = []\n",
    "\n",
    "    oot = ndvi - func_phenology(params, agdd, n_harm=8)\n",
    "\n",
    "    [output.append(x) for x in oot]\n",
    "\n",
    "    return np.array(output).squeeze()\n",
    "\n",
    "\n",
    "def do_fourier(ndvi, gdd, n_harm=8, init_params=None):\n",
    "    \"\"\"\n",
    "    :param ndvi:\n",
    "    :param gdd:\n",
    "    :param n_harm:\n",
    "    :param init_params:\n",
    "    :return:\n",
    "    \"\"\"\n",
    "    n_params = 1 + n_harm * 4\n",
    "\n",
    "    if init_params is None:\n",
    "        init_params = [.25, ] * n_params\n",
    "        (xsol, mesg) = leastsq(mismatch_function, init_params, args=(model_fourier, ndvi, gdd), maxfev=1000000)\n",
    "        model_fitted = model_fourier(xsol, gdd, n_harm)\n",
    "\n",
    "    return model_fitted\n",
    "\n",
    "\n",
    "def get_PTD(df,gl,gu,sl,su):\n",
    "    \"\"\"\n",
    "    Get phenological transition dates (greenup, senescence)\n",
    "    :param df:\n",
    "    :return:\n",
    "    \"\"\"\n",
    "    # Input dataframe has an index comprised of day of year and remaining columns signify NDVI\n",
    "    # Linearly interpolate dataframe columns to fill in missing values\n",
    "    df = df.apply(pd.Series.interpolate)\n",
    "    \n",
    "    # Now compute mean of all columns and get the smoothened NDVI\n",
    "    arr_smooth = do_fourier(df.mean(axis=1), [8.0] * len(df))\n",
    "    \n",
    "    plt.plot(list(range(len(arr_smooth))),arr_smooth)\n",
    "    plt.xlabel(\"DOY\")\n",
    "    plt.ylabel(\"NDVI\")\n",
    "    plt.title(\"NDVI smoothened time series plot\")\n",
    "    plt.show()\n",
    "       \n",
    "    # For all other crops and regions, take differential\n",
    "    # To get doy_green, find the last occurrence of the max differential\n",
    "    diff_green = np.diff(arr_smooth[:365 + 1])\n",
    "    \n",
    "    \n",
    "    plt.plot(list(range(len(diff_green))),diff_green)\n",
    "    plt.xlabel(\"DOY\")\n",
    "    plt.ylabel(\"NDVI_diff\")\n",
    "    plt.title(\"NDVI differential time series plot\")\n",
    "    plt.show()\n",
    "    \n",
    "    \n",
    "    \"\"\"greenup_diffvalues=diff_green[10:60]\n",
    "    sen_diffvalues=diff_green[125:]\n",
    "    doy_green = np.where(diff_green == diff_green[gl:gu+1].max())[0][-1]\n",
    "    #doy_senesc = sen_diffvalues.argmin()\n",
    "    #doy_green = np.where(diff_green == diff_green.max())[0][-1]\n",
    "    doy_senesc = np.diff(arr_smooth[:365 + 1]).argmin()\n",
    "    \"\"\"\n",
    "    green_indices=np.where(diff_green == diff_green[gl:gu+1].max())[0]\n",
    "    for i in green_indices:\n",
    "        if i<=gu and i>=gl:\n",
    "            doy_green = i\n",
    "            break\n",
    "    sen_indices=np.where(diff_green == diff_green[sl:su+1].min())[0]\n",
    "    for i in sen_indices:\n",
    "        if i<=su and i>=sl:\n",
    "            doy_senesc = i\n",
    "            break\n",
    "    return doy_green, doy_senesc"
   ]
  },
  {
   "cell_type": "code",
   "execution_count": 6,
   "metadata": {
    "collapsed": true
   },
   "outputs": [],
   "source": [
    "#from pathos.multiprocessing import ProcessingPool as Pool\n",
    "from multiprocessing import Pool\n",
    "import matplotlib.pyplot as plt\n",
    "%matplotlib inline\n",
    "def initialize_rasters(path1,path2):\n",
    "    raster1=rasterio.open(path1)\n",
    "    tot_cols=raster1.width\n",
    "    tot_rows=raster1.height\n",
    "    a=raster1.read()\n",
    "    print(\"Tot rows: \",tot_rows,\" Tot cols: \",tot_cols)\n",
    "    raster2=rasterio.open(path2)\n",
    "    b=raster2.read()\n",
    "    if(b.shape[0]<a.shape[0]):\n",
    "        t1=b[0:6] #determine what doy you are missing!! in this case its DOY49 thus insert as 7th layer\n",
    "        t2=b[6:b.shape[0]]\n",
    "        p=b[0]*0\n",
    "        p=p.reshape(1,tot_rows,tot_cols)\n",
    "\n",
    "        tp=np.append(t1,p,axis=0)\n",
    "        b=np.append(tp,t2,axis=0)\n",
    "        #print(b.shape)\n",
    "    return (a,b,tot_rows,tot_cols)\n",
    "def ritvik_fn(df,gl,gu,sl,su):\n",
    "    #return (random.randint(1,50),random.randint(120,365))\n",
    "    return get_PTD(df,gl,gu,sl,su)\n",
    "\n",
    "def myfunction(index,rasters):\n",
    "    a=rasters[0]\n",
    "    b=rasters[1]\n",
    "    tot_cols=a.shape[2]\n",
    "    tot_rows=a.shape[1]\n",
    "    #print(\"Tot rows: \",tot_rows,\" Tot cols: \",tot_cols)\n",
    "    row=int(index/tot_cols)\n",
    "    col=index-(tot_cols*row)\n",
    "    print(\"row: \",row,\" col: \",col)\n",
    "    df=dataframe_extraction(a,b,row,col)\n",
    "    print(df)\n",
    "    #df.loc[57]['NDVI_2015']=None\n",
    "    df[df<0]=None\n",
    "    ndvi_2015=df['NDVI_2015'].tolist()\n",
    "    clean=[x for x in ndvi_2015 if str(x) != 'nan']\n",
    "    clean = [max(0, min(x, 10000)) for x in clean]\n",
    "    maxi=int(max(clean))\n",
    "    if (maxi>2000 and len(clean)>0):\n",
    "        plt.plot(list(range(len(clean))),clean)\n",
    "        plt.xlabel(\"DOY\")\n",
    "        plt.ylabel(\"NDVI\")\n",
    "        plt.title(\"NDVI time series plot\")\n",
    "        plt.show()\n",
    "        #print(df.loc[50:80]['NDVI_2015'])\n",
    "        ##return ritvik_fn(pd.Series.to_frame(df['NDVI_2015']))\n",
    "        return ritvik_fn(pd.Series.to_frame(df.loc[0:365]['NDVI_2015']),10,60,135,196)\n",
    "    else:\n",
    "        return (0,0)"
   ]
  },
  {
   "cell_type": "markdown",
   "metadata": {},
   "source": [
    "The doy interval we need to consider for the dataframe passed into ritvik_fn changes from crop to crop and ste to state. For eg, for winter wheat in Kansas, greep up happens in 1:60 doys and sennescence in 125:200 doys."
   ]
  },
  {
   "cell_type": "code",
   "execution_count": 11,
   "metadata": {},
   "outputs": [
    {
     "name": "stdout",
     "output_type": "stream",
     "text": [
      "Tot rows:  757  Tot cols:  1521\n"
     ]
    }
   ],
   "source": [
    "#a,b,tot_rows,tot_cols=initialize_rasters(\"A2015_177_ndvi_480m.tif\",\"A2015_185_ndvi_480m.tif\")\n",
    "#src=rasterio.open('ndvi_stack_2015_area_wheat.tif')\n",
    "#a,b,tot_rows,tot_cols=initialize_rasters('ndvi_stack_2014_area_wheat.tif','ndvi_stack_2015_area_wheat.tif')\n",
    "src=rasterio.open('MOD09Q1.A2012.NE.BRDF_ndvistack_corn.tif')\n",
    "a,b,tot_rows,tot_cols=initialize_rasters('MOD09Q1.A2012.NE.BRDF_ndvistack_corn.tif','MOD09Q1.A2012.NE.BRDF_ndvistack_soy.tif')\n",
    "\n",
    "y=[(a,b)]*tot_rows*tot_cols\n",
    "ind=range(tot_rows*tot_cols)\n",
    "l=list()\n",
    "l=list(list(zip(ind,y))[:])\n",
    "greenup=a[1]*0\n",
    "sen=a[1]*0\n",
    "plant=a[1]*0\n",
    "har=a[1]*0\n",
    "plant=plant.astype('int32')\n",
    "har=har.astype('int32')"
   ]
  },
  {
   "cell_type": "code",
   "execution_count": 12,
   "metadata": {
    "scrolled": false
   },
   "outputs": [
    {
     "name": "stdout",
     "output_type": "stream",
     "text": [
      "row:  650  col:  506\n",
      "     NDVI_2014  NDVI_2015\n",
      "1       2190.0        0.0\n",
      "2          NaN        NaN\n",
      "3          NaN        NaN\n",
      "4          NaN        NaN\n",
      "5          NaN        NaN\n",
      "6          NaN        NaN\n",
      "7          NaN        NaN\n",
      "8          NaN        NaN\n",
      "9       2101.0        0.0\n",
      "10         NaN        NaN\n",
      "11         NaN        NaN\n",
      "12         NaN        NaN\n",
      "13         NaN        NaN\n",
      "14         NaN        NaN\n",
      "15         NaN        NaN\n",
      "16         NaN        NaN\n",
      "17      2196.0        0.0\n",
      "18         NaN        NaN\n",
      "19         NaN        NaN\n",
      "20         NaN        NaN\n",
      "21         NaN        NaN\n",
      "22         NaN        NaN\n",
      "23         NaN        NaN\n",
      "24         NaN        NaN\n",
      "25      2058.0        0.0\n",
      "26         NaN        NaN\n",
      "27         NaN        NaN\n",
      "28         NaN        NaN\n",
      "29         NaN        NaN\n",
      "30         NaN        NaN\n",
      "..         ...        ...\n",
      "336        NaN        NaN\n",
      "337     2163.0        0.0\n",
      "338        NaN        NaN\n",
      "339        NaN        NaN\n",
      "340        NaN        NaN\n",
      "341        NaN        NaN\n",
      "342        NaN        NaN\n",
      "343        NaN        NaN\n",
      "344        NaN        NaN\n",
      "345     2314.0        0.0\n",
      "346        NaN        NaN\n",
      "347        NaN        NaN\n",
      "348        NaN        NaN\n",
      "349        NaN        NaN\n",
      "350        NaN        NaN\n",
      "351        NaN        NaN\n",
      "352        NaN        NaN\n",
      "353        0.0        0.0\n",
      "354        NaN        NaN\n",
      "355        NaN        NaN\n",
      "356        NaN        NaN\n",
      "357        NaN        NaN\n",
      "358        NaN        NaN\n",
      "359        NaN        NaN\n",
      "360        NaN        NaN\n",
      "361        0.0        0.0\n",
      "362        NaN        NaN\n",
      "363        NaN        NaN\n",
      "364        NaN        NaN\n",
      "365        NaN        NaN\n",
      "\n",
      "[365 rows x 2 columns]\n",
      "0 0\n"
     ]
    }
   ],
   "source": [
    "index_test=988650+500+6\n",
    "gr,se=myfunction(l[index_test][0],l[index_test][1])\n",
    "print(gr,se)"
   ]
  },
  {
   "cell_type": "code",
   "execution_count": 70,
   "metadata": {
    "scrolled": true
   },
   "outputs": [
    {
     "name": "stdout",
     "output_type": "stream",
     "text": [
      "137.79208493232727\n"
     ]
    }
   ],
   "source": [
    "start=time.time()\n",
    "with Pool(processes=3) as pool:\n",
    "    ind_start=988650+500\n",
    "    ind_end=ind_start+100\n",
    "    pairs=pool.starmap(myfunction,l[ind_start:ind_end])\n",
    "    pool.close()\n",
    "    pool.join()\n",
    "end=time.time()\n",
    "print(end-start)\n",
    "#print(pairs)"
   ]
  },
  {
   "cell_type": "code",
   "execution_count": 71,
   "metadata": {},
   "outputs": [
    {
     "name": "stdout",
     "output_type": "stream",
     "text": [
      "[(0, 0), (0, 0), (0, 0), (0, 0), (0, 0), (0, 0), (58, 72), (0, 0), (0, 0), (0, 0), (0, 0), (0, 0), (0, 0), (14, 73), (14, 73), (14, 73), (0, 0), (14, 72), (0, 0), (14, 73), (14, 73), (13, 72), (13, 72), (13, 72), (13, 28), (0, 0), (0, 0), (0, 0), (0, 0), (0, 0), (0, 0), (14, 73), (14, 73), (0, 0), (13, 72), (13, 72), (0, 0), (13, 72), (0, 0), (0, 0), (0, 0), (14, 72), (14, 72), (0, 0), (0, 0), (0, 0), (14, 72), (0, 0), (0, 0), (14, 72), (14, 72), (14, 72), (0, 0), (0, 0), (14, 73), (0, 0), (40, 73), (0, 0), (0, 0), (59, 73), (0, 0), (0, 0), (0, 0), (0, 0), (0, 0), (0, 0), (0, 0), (0, 0), (0, 0), (0, 0), (0, 0), (0, 0), (0, 0), (18, 73), (0, 0), (0, 0), (0, 0), (16, 73), (0, 0), (0, 0), (0, 0), (0, 0), (15, 73), (53, 72), (0, 0), (15, 73), (0, 0), (0, 0), (14, 73), (14, 73), (14, 73), (0, 0), (0, 0), (0, 0), (21, 73), (26, 71), (0, 0), (0, 0), (0, 0), (0, 0)]\n"
     ]
    }
   ],
   "source": [
    "print(pairs)"
   ]
  },
  {
   "cell_type": "code",
   "execution_count": 293,
   "metadata": {},
   "outputs": [
    {
     "name": "stdout",
     "output_type": "stream",
     "text": [
      "[(23, 153), (28, 151), (25, 149), (34, 149), (0, 0), (0, 0)]\n"
     ]
    }
   ],
   "source": [
    "start=time.time()\n",
    "#print(pairs)\n",
    "for index in list(range(ind_start,ind_end)):\n",
    "    row=int(index/tot_cols)\n",
    "    col=index-(tot_cols*row)\n",
    "    greenup[row][col]=pairs[index-ind_start][0]\n",
    "    plant[row][col]=pairs[index-ind_start][0]-15\n",
    "    #print(\"Row: \",row,\" Col: \",col,\" \",greenup[row][col])\n",
    "    sen[row][col]=pairs[index-ind_start][1]\n",
    "    har[row][col]=pairs[index-ind_start][1]+45"
   ]
  },
  {
   "cell_type": "code",
   "execution_count": 294,
   "metadata": {
    "scrolled": true
   },
   "outputs": [
    {
     "name": "stdout",
     "output_type": "stream",
     "text": [
      "3.3580799102783203\n"
     ]
    }
   ],
   "source": [
    "np.clip(plant, 1, 365, out=plant)\n",
    "np.clip(har, 1, 365, out=har)\n",
    "plant=plant.astype('uint32')\n",
    "har=har.astype('uint32')\n",
    "print(time.time()-start)"
   ]
  },
  {
   "cell_type": "code",
   "execution_count": 295,
   "metadata": {},
   "outputs": [
    {
     "data": {
      "text/plain": [
       "'\\nprint(greenup[105][400:500])\\nprint(plant[105][400:500])\\nprint(sen[105][400:500])\\nprint(har[105][400:500])\\n'"
      ]
     },
     "execution_count": 295,
     "metadata": {},
     "output_type": "execute_result"
    }
   ],
   "source": [
    "\"\"\"\n",
    "print(greenup[105][400:500])\n",
    "print(plant[105][400:500])\n",
    "print(sen[105][400:500])\n",
    "print(har[105][400:500])\n",
    "\"\"\""
   ]
  },
  {
   "cell_type": "code",
   "execution_count": 297,
   "metadata": {},
   "outputs": [
    {
     "name": "stdout",
     "output_type": "stream",
     "text": [
      "{'interleave': 'pixel', 'height': 75, 'nodata': -1.7e+308, 'dtype': 'float64', 'transform': Affine(480.0, 0.0, -184680.723585027,\n",
      "       0.0, -480.0, 1589872.385601348), 'count': 1, 'tiled': False, 'crs': CRS({'wktext': True, 'lat_2': 45.5, 'ellps': 'GRS80', 'no_defs': True, 'lat_1': 29.5, 'lat_0': 23, 'units': 'm', 'lon_0': -96, 'x_0': 0, 'y_0': 0, 'towgs84': '0,0,0,0,0,0,0', 'proj': 'aea'}), 'compress': 'lzw', 'width': 104, 'driver': 'GTiff'}\n"
     ]
    }
   ],
   "source": [
    "profile=src.profile\n",
    "profile.update(count=1)\n",
    "print(profile)\n",
    "\n",
    "with rasterio.open('greenup.tif', 'w', **profile) as dst:\n",
    "    dst.write(greenup.astype(rasterio.float64), 1)\n",
    "with rasterio.open('sen.tif', 'w', **profile) as dst:\n",
    "    dst.write(sen.astype(rasterio.float64), 1)\n",
    "with rasterio.open('planting.tif', 'w', **profile) as dst:\n",
    "    dst.write(plant.astype(rasterio.float64), 1)\n",
    "with rasterio.open('harvesting.tif', 'w', **profile) as dst:\n",
    "    dst.write(har.astype(rasterio.float64), 1)"
   ]
  },
  {
   "cell_type": "code",
   "execution_count": null,
   "metadata": {
    "collapsed": true
   },
   "outputs": [],
   "source": []
  }
 ],
 "metadata": {
  "anaconda-cloud": {},
  "kernelspec": {
   "display_name": "Python 3",
   "language": "python",
   "name": "python3"
  },
  "language_info": {
   "codemirror_mode": {
    "name": "ipython",
    "version": 3
   },
   "file_extension": ".py",
   "mimetype": "text/x-python",
   "name": "python",
   "nbconvert_exporter": "python",
   "pygments_lexer": "ipython3",
   "version": "3.5.3"
  },
  "widgets": {
   "application/vnd.jupyter.widget-state+json": {
    "state": {},
    "version_major": 1,
    "version_minor": 0
   }
  }
 },
 "nbformat": 4,
 "nbformat_minor": 2
}
