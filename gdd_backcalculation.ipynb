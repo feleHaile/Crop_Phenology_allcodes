{
 "cells": [
  {
   "cell_type": "code",
   "execution_count": 1,
   "metadata": {
    "collapsed": true
   },
   "outputs": [],
   "source": [
    "import pandas as pd\n",
    "import numpy as np\n",
    "import rasterio\n",
    "import time\n",
    "import random"
   ]
  },
  {
   "cell_type": "code",
   "execution_count": 2,
   "metadata": {
    "collapsed": true
   },
   "outputs": [],
   "source": [
    "#df_insert = pd.DataFrame({'tmin_2015': [np.NaN]*7,\n",
    "                    #'tmax_2015': [np.NaN]*7})\n",
    "def dataframe_extraction(r1,row,col):\n",
    "    \"\"\"This function returns a pandas dataframe that holds the gdd values for 1-365 doys\n",
    "    inputs: r1: the gdd RasterStack, which has 365 layers one corresponding to a doy of that year.\n",
    "            row, col: the row and column of the raster pixel we would like to get the dataframe for \"\"\"\n",
    "    id=np.array(range(1,1+r1.shape[0]))\n",
    "    data_frame = (pd.DataFrame({'DOY':range(1,366),\n",
    "                                'gdd':r1[0:1+r1.shape[0]:1,row,col]},index=id))\n",
    "    #print(data_frame)\n",
    "    #df=pd.DataFrame()\n",
    "    #for i in range(len(data_frame)):\n",
    "    #    df=pd.concat([df,data_frame.iloc[[i]],df_insert])\n",
    "    data_frame.index=range(1,1+len(data_frame.index))\n",
    "    return data_frame"
   ]
  },
  {
   "cell_type": "code",
   "execution_count": 20,
   "metadata": {
    "collapsed": true
   },
   "outputs": [],
   "source": [
    "from multiprocessing import Pool\n",
    "def initialize_rasters(path1,path2,path3):\n",
    "    raster1=rasterio.open(path1)\n",
    "    tot_cols=raster1.width\n",
    "    tot_rows=raster1.height\n",
    "    a=raster1.read()\n",
    "    print(\"Tot rows: \",tot_rows,\" Tot cols: \",tot_cols)\n",
    "    raster2=rasterio.open(path2)\n",
    "    b=raster2.read()\n",
    "    raster3=rasterio.open(path3)\n",
    "    c=raster3.read()\n",
    "    return (a[0,:,:],b[0,:,:],c,tot_rows,tot_cols)\n",
    "def gdd_backcalculation(index,info,gdd_corn_green=340,gdd_soy_green=400,gdd_corn_sen=150,gdd_soy_sen=260):\n",
    "    \n",
    "    crop=info[0]\n",
    "    green=info[1]\n",
    "    sen=info[2]\n",
    "    gdd=info[3]\n",
    "    row=int(index/tot_cols)\n",
    "    col=index-(tot_cols*row)\n",
    "    g=green[row][col]\n",
    "    s=sen[row][col]\n",
    "    temp_data=dataframe_extraction(gdd,row,col)\n",
    "    if crop=='corn':\n",
    "        t=temp_data.loc[(temp_data.DOY<=g)]\n",
    "        t.index=range(1,1+len(t))\n",
    "        t['gdd_corn_cum']=t.loc[::-1, 'gdd'].cumsum()[::-1]\n",
    "        #t['gdd_soy_cum']=t.loc[::-1, 'gdd'].cumsum()[::-1]\n",
    "        c_cum=t['gdd_corn_cum']\n",
    "        #s_cum=t['gdd_soy_cum']\n",
    "        corn=c_cum[c_cum<gdd_corn_green]\n",
    "        #soy=s_cum[s_cum<gdd_soy_green]\n",
    "        p_corn=(corn.index[0]-1 if(corn.index[0]>1) else 100)\n",
    "        #p_soy=(soy.index[0]-1 if(soy.index[0]>1) else 100)\n",
    "\n",
    "        t=temp_data.loc[(temp_data.DOY>=s)]\n",
    "        t.index=range(s,s+len(t))\n",
    "        t['gdd_corn_cum']=t.loc[:,'gdd'].cumsum()\n",
    "        #t['gdd_soy_cum']=t.loc[:,'gdd'].cumsum()\n",
    "        c_cum=t['gdd_corn_cum']\n",
    "        #s_cum=t['gdd_soy_cum']\n",
    "        corn=c_cum[c_cum>gdd_corn_sen]\n",
    "        #soy=s_cum[s_cum>gdd_soy_sen]\n",
    "        h_corn=(corn.index[0] if len(corn.index>0) else 320)\n",
    "        #h_soy=(soy.index[0] if len(soy.index>0) else 320)\n",
    "        print((p_corn,h_corn))\n",
    "        return (p_corn,h_corn)\n",
    "    elif crop=='soy':\n",
    "        t=temp_data.loc[(temp_data.DOY<=g)]\n",
    "        t.index=range(1,1+len(t))\n",
    "        #t['gdd_corn_cum']=t.loc[::-1, 'gdd'].cumsum()[::-1]\n",
    "        t['gdd_soy_cum']=t.loc[::-1, 'gdd'].cumsum()[::-1]\n",
    "        #c_cum=t['gdd_corn_cum']\n",
    "        s_cum=t['gdd_soy_cum']\n",
    "        #corn=c_cum[c_cum<gdd_corn_green]\n",
    "        soy=s_cum[s_cum<gdd_soy_green]\n",
    "        #p_corn=(corn.index[0]-1 if(corn.index[0]>1) else 100)\n",
    "        p_soy=(soy.index[0]-1 if(soy.index[0]>1) else 100)\n",
    "\n",
    "        t=temp_data.loc[(temp_data.DOY>=s)]\n",
    "        t.index=range(s,s+len(t))\n",
    "        #t['gdd_corn_cum']=t.loc[:,'gdd'].cumsum()\n",
    "        t['gdd_soy_cum']=t.loc[:,'gdd'].cumsum()\n",
    "        #cum=t['gdd_corn_cum']\n",
    "        s_cum=t['gdd_soy_cum']\n",
    "        #corn=c_cum[c_cum>gdd_corn_sen]\n",
    "        soy=s_cum[s_cum>gdd_soy_sen]\n",
    "        #h_corn=(corn.index[0] if len(corn.index>0) else 320)\n",
    "        h_soy=(soy.index[0] if len(soy.index>0) else 320)\n",
    "        return (p_soy,h_soy)\n",
    "    #return (p_corn,p_soy,h_corn,h_soy)"
   ]
  },
  {
   "cell_type": "code",
   "execution_count": 11,
   "metadata": {
    "scrolled": true
   },
   "outputs": [
    {
     "name": "stdout",
     "output_type": "stream",
     "text": [
      "Tot rows:  757  Tot cols:  1521\n"
     ]
    }
   ],
   "source": [
    "src=rasterio.open('greenup_corn.tif')\n",
    "crop='corn'\n",
    "a,b,c,tot_rows,tot_cols=initialize_rasters('greenup_corn.tif','sen_corn.tif','gdd_corn_2012.tif')\n",
    "y=[(crop,a,b,c)]*tot_rows*tot_cols\n",
    "ind=range(tot_rows*tot_cols)\n",
    "l=list()\n",
    "l=list(list(zip(ind,y))[:])\n",
    "plant=a*0\n",
    "har=a*0\n",
    "plant=plant.astype('int32')\n",
    "har=har.astype('int32')"
   ]
  },
  {
   "cell_type": "code",
   "execution_count": 19,
   "metadata": {},
   "outputs": [
    {
     "data": {
      "text/plain": [
       "4"
      ]
     },
     "execution_count": 19,
     "metadata": {},
     "output_type": "execute_result"
    }
   ],
   "source": [
    "len(l[575698][1])"
   ]
  },
  {
   "cell_type": "code",
   "execution_count": 21,
   "metadata": {},
   "outputs": [
    {
     "name": "stderr",
     "output_type": "stream",
     "text": [
      "/Users/koutilya/anaconda/envs/CCMS/lib/python3.5/site-packages/ipykernel_launcher.py:27: SettingWithCopyWarning: \n",
      "A value is trying to be set on a copy of a slice from a DataFrame.\n",
      "Try using .loc[row_indexer,col_indexer] = value instead\n",
      "\n",
      "See the caveats in the documentation: http://pandas.pydata.org/pandas-docs/stable/indexing.html#indexing-view-versus-copy\n"
     ]
    },
    {
     "name": "stdout",
     "output_type": "stream",
     "text": [
      "(135, 261)\n"
     ]
    },
    {
     "name": "stderr",
     "output_type": "stream",
     "text": [
      "/Users/koutilya/anaconda/envs/CCMS/lib/python3.5/site-packages/ipykernel_launcher.py:38: SettingWithCopyWarning: \n",
      "A value is trying to be set on a copy of a slice from a DataFrame.\n",
      "Try using .loc[row_indexer,col_indexer] = value instead\n",
      "\n",
      "See the caveats in the documentation: http://pandas.pydata.org/pandas-docs/stable/indexing.html#indexing-view-versus-copy\n",
      "/Users/koutilya/anaconda/envs/CCMS/lib/python3.5/site-packages/ipykernel_launcher.py:27: SettingWithCopyWarning: \n",
      "A value is trying to be set on a copy of a slice from a DataFrame.\n",
      "Try using .loc[row_indexer,col_indexer] = value instead\n",
      "\n",
      "See the caveats in the documentation: http://pandas.pydata.org/pandas-docs/stable/indexing.html#indexing-view-versus-copy\n"
     ]
    },
    {
     "name": "stdout",
     "output_type": "stream",
     "text": [
      "(127, 252)\n"
     ]
    },
    {
     "name": "stderr",
     "output_type": "stream",
     "text": [
      "/Users/koutilya/anaconda/envs/CCMS/lib/python3.5/site-packages/ipykernel_launcher.py:38: SettingWithCopyWarning: \n",
      "A value is trying to be set on a copy of a slice from a DataFrame.\n",
      "Try using .loc[row_indexer,col_indexer] = value instead\n",
      "\n",
      "See the caveats in the documentation: http://pandas.pydata.org/pandas-docs/stable/indexing.html#indexing-view-versus-copy\n",
      "/Users/koutilya/anaconda/envs/CCMS/lib/python3.5/site-packages/ipykernel_launcher.py:27: SettingWithCopyWarning: \n",
      "A value is trying to be set on a copy of a slice from a DataFrame.\n",
      "Try using .loc[row_indexer,col_indexer] = value instead\n",
      "\n",
      "See the caveats in the documentation: http://pandas.pydata.org/pandas-docs/stable/indexing.html#indexing-view-versus-copy\n"
     ]
    },
    {
     "name": "stdout",
     "output_type": "stream",
     "text": [
      "(127, 256)\n"
     ]
    },
    {
     "name": "stderr",
     "output_type": "stream",
     "text": [
      "/Users/koutilya/anaconda/envs/CCMS/lib/python3.5/site-packages/ipykernel_launcher.py:38: SettingWithCopyWarning: \n",
      "A value is trying to be set on a copy of a slice from a DataFrame.\n",
      "Try using .loc[row_indexer,col_indexer] = value instead\n",
      "\n",
      "See the caveats in the documentation: http://pandas.pydata.org/pandas-docs/stable/indexing.html#indexing-view-versus-copy\n"
     ]
    },
    {
     "name": "stdout",
     "output_type": "stream",
     "text": [
      "(125, 259)\n",
      "(133, 259)\n",
      "(132, 255)\n",
      "(129, 259)\n",
      "(129, 247)\n",
      "(132, 268)\n",
      "(132, 235)\n",
      "121.43442988395691\n",
      "[(135, 261), (127, 252), (127, 256), (125, 259), (133, 259), (132, 255), (129, 259), (129, 247), (132, 268), (132, 235)]\n"
     ]
    }
   ],
   "source": [
    "start=time.time()\n",
    "with Pool(processes=3) as pool:\n",
    "    ind_start=575698+500\n",
    "    ind_end=ind_start+10\n",
    "    pairs=pool.starmap(gdd_backcalculation,l[ind_start:ind_end])\n",
    "    pool.close()\n",
    "    pool.join()\n",
    "end=time.time()\n",
    "print(end-start)\n",
    "print(pairs)"
   ]
  },
  {
   "cell_type": "code",
   "execution_count": 27,
   "metadata": {},
   "outputs": [
    {
     "name": "stdout",
     "output_type": "stream",
     "text": [
      "576198\n",
      "576199\n",
      "576200\n",
      "576201\n",
      "576202\n",
      "576203\n",
      "576204\n",
      "576205\n",
      "576206\n",
      "576207\n",
      "{'interleave': 'band', 'transform': Affine(480.0, 0.0, -671205.0,\n",
      "       0.0, -480.0, 2250435.0), 'count': 1, 'nodata': 0.0, 'driver': 'GTiff', 'height': 757, 'tiled': False, 'crs': CRS({'lon_0': -96, 'wktext': True, 'proj': 'aea', 'y_0': 0, 'ellps': 'GRS80', 'units': 'm', 'lat_1': 29.5, 'lat_2': 45.5, 'no_defs': True, 'towgs84': '0,0,0,0,0,0,0', 'lat_0': 23, 'x_0': 0}), 'dtype': 'uint16', 'width': 1521}\n"
     ]
    }
   ],
   "source": [
    "for index in list(range(ind_start,ind_end)):\n",
    "    print(index)\n",
    "    row=int(index/tot_cols)\n",
    "    col=index-(tot_cols*row)\n",
    "    plant[row][col]=pairs[index-ind_start][0]\n",
    "    har[row][col]=pairs[index-ind_start][0]\n",
    "profile=src.profile\n",
    "profile.update(count=1)\n",
    "print(profile)\n",
    "with rasterio.open('plant.tif','w',**profile) as dst:\n",
    "    dst.write(plant.astype(rasterio.uint16),1)\n",
    "with rasterio.open('har.tif','w',**profile) as dst:\n",
    "    dst.write(har.astype(rasterio.uint16),1)"
   ]
  },
  {
   "cell_type": "markdown",
   "metadata": {},
   "source": [
    "# The following is not required"
   ]
  },
  {
   "cell_type": "code",
   "execution_count": 4,
   "metadata": {},
   "outputs": [
    {
     "name": "stdout",
     "output_type": "stream",
     "text": [
      "Tot rows:  621  Tot cols:  1405\n"
     ]
    },
    {
     "data": {
      "text/plain": [
       "621"
      ]
     },
     "execution_count": 4,
     "metadata": {},
     "output_type": "execute_result"
    }
   ],
   "source": [
    "def initialize_rasters(path1,path2):\n",
    "    raster1=rasterio.open(path1)\n",
    "    tot_cols=raster1.width\n",
    "    tot_rows=raster1.height\n",
    "    a=raster1.read()\n",
    "    print(\"Tot rows: \",tot_rows,\" Tot cols: \",tot_cols)\n",
    "    raster2=rasterio.open(path2)\n",
    "    b=raster2.read()\n",
    "    return (a,b,tot_rows,tot_cols)\n",
    "\n",
    "a,b,tot_rows,tot_cols=initialize_rasters('PRISM_tmin_stable_4kmD1_2015_bil.tif','PRISM_tmax_stable_4kmD1_2015_bil.tif')"
   ]
  },
  {
   "cell_type": "code",
   "execution_count": 35,
   "metadata": {
    "scrolled": false
   },
   "outputs": [
    {
     "name": "stdout",
     "output_type": "stream",
     "text": [
      "872505\n"
     ]
    }
   ],
   "source": [
    "y=[(a,b)]*tot_rows*tot_cols\n",
    "ind=range(tot_rows*tot_cols)\n",
    "l=list()\n",
    "l=list(list(zip(ind,y))[:])\n",
    "\n",
    "def gdd_calculation(index,rasters):\n",
    "    a=rasters[0]\n",
    "    b=rasters[1]\n",
    "    tot_cols=a.shape[2]\n",
    "    tot_rows=a.shape[1]\n",
    "    row=int(index/tot_cols)\n",
    "    col=index-(tot_cols*row)\n",
    "    print(\"row: \",row,\" col: \",col)\n",
    "    df=dataframe_extraction(a,b,row,col)\n",
    "    df.clip(lower=pd.Series({'tmin_2015': 10.0, 'tmax_2015': 10.0}), upper=pd.Series({'tmax_2015': 25}), axis=1)\n",
    "    df['tavg']=0.5*(df['tmax_2015']+df['tmin_2015'])\n",
    "    df['gdd_soy']=df['tavg']-10\n",
    "    return df\n",
    "\n",
    "df=gdd_calculation(l[400000][0],l[400000][1])"
   ]
  },
  {
   "cell_type": "code",
   "execution_count": null,
   "metadata": {
    "collapsed": true
   },
   "outputs": [],
   "source": [
    "print(df)"
   ]
  }
 ],
 "metadata": {
  "kernelspec": {
   "display_name": "Python 3",
   "language": "python",
   "name": "python3"
  },
  "language_info": {
   "codemirror_mode": {
    "name": "ipython",
    "version": 3
   },
   "file_extension": ".py",
   "mimetype": "text/x-python",
   "name": "python",
   "nbconvert_exporter": "python",
   "pygments_lexer": "ipython3",
   "version": "3.5.3"
  }
 },
 "nbformat": 4,
 "nbformat_minor": 2
}
